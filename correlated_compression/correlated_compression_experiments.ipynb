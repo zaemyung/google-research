{
  "cells": [
    {
      "cell_type": "code",
      "execution_count": null,
      "metadata": {
        "id": "qfVq685nRfsc"
      },
      "outputs": [],
      "source": [
        "# Copyright 2022 Google LLC\n",
        "#\n",
        "# Licensed under the Apache License, Version 2.0 (the \"License\");\n",
        "# you may not use this file except in compliance with the License.\n",
        "# You may obtain a copy of the License at\n",
        "#\n",
        "#      http://www.apache.org/licenses/LICENSE-2.0\n",
        "#\n",
        "# Unless required by applicable law or agreed to in writing, software\n",
        "# distributed under the License is distributed on an \"AS IS\" BASIS,\n",
        "# WITHOUT WARRANTIES OR CONDITIONS OF ANY KIND, either express or implied.\n",
        "# See the License for the specific language governing permissions and\n",
        "# limitations under the License."
      ]
    },
    {
      "cell_type": "markdown",
      "metadata": {
        "id": "CE1g_AzREAgQ"
      },
      "source": [
        "# Correlated compression experiments\n",
        "\n",
        "[![Open in Colab](https://colab.research.google.com/assets/colab-badge.svg)](https://colab.research.google.com/github/google-research/google-research/blob/master/correlated_compression/correlated_compression_experiments.ipynb)\n",
        "\n",
        "This notebook contains the experiments run for the paper [\"Correlated quantization for distributed mean estimation and optimization\"](https://arxiv.org/abs/2203.04925)."
      ]
    },
    {
      "cell_type": "code",
      "execution_count": null,
      "metadata": {
        "id": "lM6mKQ-KDwpb"
      },
      "outputs": [],
      "source": [
        "# Uncomment this to install fedjax at HEAD.\n",
        "# !pip install --upgrade -q git+https://github.com/google/fedjax.git"
      ]
    },
    {
      "cell_type": "code",
      "execution_count": null,
      "metadata": {
        "id": "QQW7ay60fnHn"
      },
      "outputs": [],
      "source": [
        "import functools\n",
        "import itertools\n",
        "import math\n",
        "import time\n",
        "\n",
        "from typing import Any, Callable, Iterable, Mapping, Optional, Sequence, Tuple\n",
        "\n",
        "import fedjax\n",
        "import haiku as hk\n",
        "import jax\n",
        "import jax.numpy as jnp\n",
        "import matplotlib\n",
        "import matplotlib.pyplot as plt\n",
        "import numpy as np\n",
        "import scipy\n",
        "import tensorflow as tf\n",
        "import tensorflow_datasets as tfds\n",
        "\n",
        "fedjax.training.set_tf_cpu_only()"
      ]
    },
    {
      "cell_type": "markdown",
      "metadata": {
        "id": "wuN3LnL16aF5"
      },
      "source": [
        "## Correlated stochastic quantizer"
      ]
    },
    {
      "cell_type": "code",
      "execution_count": null,
      "metadata": {
        "id": "w8etWDdZ6ZMn"
      },
      "outputs": [],
      "source": [
        "@fedjax.dataclass\n",
        "class CorrelatedCompressionState:\n",
        "  \"\"\"State of correlated compression aggregator passed between rounds.\n",
        "\n",
        "  Attributes:\n",
        "    num_bits: Number of bits transmitted per client.\n",
        "    rng: PRNGKey used for compression.\n",
        "    thresholds: Threshold for each array in the pytree.\n",
        "  \"\"\"\n",
        "  num_bits: float\n",
        "  rng: fedjax.PRNGKey\n",
        "  thresholds: fedjax.Params\n",
        "\n",
        "\n",
        "def correlated_stochastic_quantize(v, num_levels, num_clients, rng, shared_rng,\n",
        "                                   threshold, index, c1):\n",
        "  \"\"\"Applies correlated stochastic quantization on input vector v.\n",
        "\n",
        "  Correlated quantization for distributed mean estimation and optimization\n",
        "    Ananda Theertha Suresh, Ziteng Sun, Jae Hun Ro, Felix Yu\n",
        "\n",
        "  Args:\n",
        "    v: Vector to be quantized.\n",
        "    num_levels: Number of levels of quantization.\n",
        "    num_clients: Number of clients.\n",
        "    rng: PRNGKey.\n",
        "    shared_rng: PRNGKey that is shared across clients per round.\n",
        "    threshold: Clipping threshold.\n",
        "    index: Index of the client.\n",
        "    c1: Initial value c1.\n",
        "\n",
        "  Returns:\n",
        "    Quantized vector and the threshold of v.\n",
        "  \"\"\"\n",
        "  # Rescale the vector to be between zero to one.\n",
        "  output_min = jnp.amin(v)\n",
        "  output_max = jnp.amax(v)\n",
        "  v_min = threshold[0]\n",
        "  v_max = threshold[1]\n",
        "  v = jnp.nan_to_num((v - v_min) / (v_max - v_min))\n",
        "  # Sets v to 0 if v \u003c v_min or 1 if v \u003e v_max.\n",
        "  v = jnp.maximum(0., jnp.minimum(v, 1.))\n",
        "  # Since it is expensive to generate a different shared permutation for each\n",
        "  # coordinate in v for each client, we can work around this by utilizing the\n",
        "  # client permutation index.\n",
        "  # Using the shared_rng will make the coordinate samples the same across\n",
        "  # clients so adding the index will make standard_perm different per client.\n",
        "  # However, the range of values will be [0, 2n - 2] so we modulo by n to set\n",
        "  # it back to be a permutation of [0, n - 1].\n",
        "  standard_perm = jnp.mod(\n",
        "      jax.random.randint(\n",
        "          key=shared_rng, shape=v.shape, minval=0, maxval=num_clients) + index,\n",
        "      num_clients)\n",
        "  # Add random per coordinate per vector per client value to perm.\n",
        "  rand = standard_perm + jax.random.uniform(key=rng, shape=v.shape)\n",
        "  # Scale back to [0, 1].\n",
        "  rand = rand / num_clients\n",
        "  if num_levels == 2:\n",
        "    quantized = jnp.where(rand \u003e v, 0., 1.)\n",
        "  else:\n",
        "    # For \u003e 2 levels, we want to adjust the thresholds so that close values are\n",
        "    # mapped to the same quantization.\n",
        "    # beta is the interval width.\n",
        "    # c1 is smallest quant value and ck is largest.\n",
        "    beta = (num_levels + 1) / (num_levels * (num_levels - 1))\n",
        "    # c1 is the smallest quantization value (roughly -1/k).\n",
        "    # ck is the largest quantization value.\n",
        "    ck = c1 + (num_levels - 1) * beta\n",
        "    # Scaling v to the new interval [c1, ck].\n",
        "    v = (v - c1) / (ck - c1)\n",
        "    # v_ceil and v_floor are the boundaries directly above and below v.\n",
        "    v_ceil = jnp.ceil(v * (num_levels - 1)) / (num_levels - 1)\n",
        "    v_floor = jnp.floor(v * (num_levels - 1)) / (num_levels - 1)\n",
        "    # Scaling threshold between v_ceil and v_floor to determine probability of\n",
        "    # rounding up to v_ceil.\n",
        "    threshold = jnp.nan_to_num((v - v_floor) / (v_ceil - v_floor))\n",
        "    quantized = jnp.where(rand \u003e threshold, v_floor, v_ceil)\n",
        "    # Rescale back to [v_min, v_max].\n",
        "    quantized = c1 + (ck - c1) * quantized\n",
        "  # Rescale the values and return it.\n",
        "  quantized_v = v_min + quantized * (v_max - v_min)\n",
        "  new_threshold = jnp.array([output_min, output_max])\n",
        "  return quantized_v, new_threshold\n",
        "\n",
        "\n",
        "@functools.partial(jax.jit, static_argnums=(1))\n",
        "def correlated_stochastic_quantize_pytree(params, num_levels, num_clients,\n",
        "                                          client_rng, shared_rng, thresholds,\n",
        "                                          index, c1s):\n",
        "  \"\"\"Applies correlated quantization for all leaves of the params pytree.\n",
        "\n",
        "  Args:\n",
        "    params: Pytree of parameters to be quantized.\n",
        "    num_levels: Number of levels of quantization.\n",
        "    num_clients: Number of clients.\n",
        "    client_rng: PRNGKey of client.\n",
        "    shared_rng: PRNGKey that is shared across clients in a round.\n",
        "    thresholds: A pytree of absolute mins and maxes for each array in params.\n",
        "    index: Index of the user.\n",
        "    c1s: Initial value c1s.\n",
        "\n",
        "  Returns:\n",
        "    Quantized params pytree and the pytree of thresholds.\n",
        "  \"\"\"\n",
        "  p_leaves, p_tree_def = jax.tree_util.tree_flatten(params)\n",
        "  thresh_leaves, thresh_tree_def = jax.tree_util.tree_flatten(thresholds)\n",
        "  p_rngs = jax.random.split(client_rng, len(p_leaves))\n",
        "  # Split the shared key so a different key is used for each parameter but is\n",
        "  # still identical across clients.\n",
        "  shared_rngs = jax.random.split(shared_rng, len(p_leaves))\n",
        "  quant_p_leaves = []\n",
        "  new_thresh_leaves = []\n",
        "  for p_leaf, p_rng, s_rng, thresh, c1 in zip(p_leaves, p_rngs, shared_rngs,\n",
        "                                              thresh_leaves, c1s):\n",
        "    quant_p_leaf, new_thresh = correlated_stochastic_quantize(\n",
        "        p_leaf, num_levels, num_clients, p_rng, s_rng, thresh, index, c1)\n",
        "    quant_p_leaves.append(quant_p_leaf)\n",
        "    new_thresh_leaves.append(new_thresh)\n",
        "  quant_params = jax.tree_util.tree_unflatten(p_tree_def, quant_p_leaves)\n",
        "  new_thresholds = jax.tree_util.tree_unflatten(thresh_tree_def,\n",
        "                                                new_thresh_leaves)\n",
        "  return quant_params, new_thresholds\n",
        "\n",
        "\n",
        "def correlated_stochastic_quantizer(\n",
        "    num_levels: int,\n",
        "    rng: fedjax.PRNGKey,\n",
        "    num_clients: int,\n",
        "    thresholds: fedjax.Params,\n",
        "    update_thresholds: bool,\n",
        "    rotate: bool = False) -\u003e fedjax.aggregators.Aggregator:\n",
        "  \"\"\"Returns aggregator for computing (weighted) mean of inputs after correlated quantization.\n",
        "\n",
        "  Correlated quantization for distributed mean estimation and optimization\n",
        "    Ananda Theertha Suresh, Ziteng Sun, Jae Hun Ro, Felix Yu\n",
        "\n",
        "  Args:\n",
        "    num_levels: Number of levels of quantization.\n",
        "    rng: PRNGKey used for compression.\n",
        "    num_clients: Number of clients.\n",
        "    thresholds: A pytree of absolute mins and maxes for each array.\n",
        "    update_thresholds: Whether thresholds should be updated.\n",
        "    rotate: Whether to apply efficient Walsh-Hadamard rotation.\n",
        "\n",
        "  Returns:\n",
        "    Correlated compression aggregator.\n",
        "  \"\"\"\n",
        "\n",
        "  def init():\n",
        "    return CorrelatedCompressionState(\n",
        "        num_bits=0.0, rng=rng, thresholds=thresholds)\n",
        "\n",
        "  def apply(\n",
        "      clients_params_and_weights: Iterable[Tuple[fedjax.ClientId, fedjax.Params,\n",
        "                                                 float]],\n",
        "      aggregator_state: CorrelatedCompressionState\n",
        "  ) -\u003e Tuple[fedjax.Params, CorrelatedCompressionState]:\n",
        "\n",
        "    rng, c1s_rng, perms_rng, hk_rng, rotate_rng, shared_rng = jax.random.split(\n",
        "        aggregator_state.rng, 6)\n",
        "    # c1s are uniformly distributed in the interval [-1/k, 0).\n",
        "    c1s = -jax.random.uniform(\n",
        "        key=c1s_rng,\n",
        "        shape=[fedjax.aggregators.compression.num_leaves(thresholds)\n",
        "              ]) / num_levels\n",
        "    # π random permutation of {0, 1, 2, ..., n - 1}.\n",
        "    pi = jax.random.shuffle(perms_rng, jnp.arange(num_clients))\n",
        "    # Unpack into a single tuple containing (cid, params, weight, rng, index).\n",
        "    clients_params_weight_rng_pis = map(lambda cpw, r, p: (*cpw, r, p),\n",
        "                                        clients_params_and_weights,\n",
        "                                        hk.PRNGSequence(hk_rng), pi)\n",
        "    # Optionally update thresholds by recording max and min across clients while\n",
        "    # streaming for quantization.\n",
        "    new_thresholds_leaves = []\n",
        "    # Convenience array to switch sign of left threshold so we can do a single\n",
        "    # element-wise maximum over both.\n",
        "    lsign = jnp.array([-1.0, 1.0])\n",
        "\n",
        "    def quantize_params(cid, params, weight, rng, index):\n",
        "      del cid\n",
        "      nonlocal new_thresholds_leaves\n",
        "      if rotate:\n",
        "        rotated_params, params_shapes = fedjax.aggregators.walsh_hadamard.structured_rotation_pytree(\n",
        "            params, rotate_rng)\n",
        "        q_rotated_params, thresholds = correlated_stochastic_quantize_pytree(\n",
        "            rotated_params, num_levels, num_clients, rng, shared_rng,\n",
        "            aggregator_state.thresholds, index, c1s)\n",
        "        q_params = fedjax.aggregators.walsh_hadamard.inverse_structured_rotation_pytree(\n",
        "            q_rotated_params, rotate_rng, params_shapes)\n",
        "      else:\n",
        "        q_params, thresholds = correlated_stochastic_quantize_pytree(\n",
        "            params, num_levels, num_clients, rng, shared_rng,\n",
        "            aggregator_state.thresholds, index, c1s)\n",
        "      if update_thresholds:\n",
        "        # Record current min left and max right thresholds for each leaf.\n",
        "        thresholds_leaves = jax.tree_util.tree_leaves(thresholds)\n",
        "        if not new_thresholds_leaves:\n",
        "          new_thresholds_leaves = thresholds_leaves\n",
        "        else:\n",
        "          for i in range(len(thresholds_leaves)):\n",
        "            new_thresholds_leaves[i] = jnp.maximum(\n",
        "                thresholds_leaves[i] * lsign,\n",
        "                new_thresholds_leaves[i] * lsign) * lsign\n",
        "      return q_params, weight\n",
        "\n",
        "    # Quantize parameters and (possibly) generate new thresholds in stream.\n",
        "    q_params_and_weights = itertools.starmap(quantize_params,\n",
        "                                             clients_params_weight_rng_pis)\n",
        "    aggregated_params = fedjax.tree_util.tree_mean(q_params_and_weights)\n",
        "    total_num_params = fedjax.tree_util.tree_size(aggregated_params)\n",
        "    total_num_floats = 2 * fedjax.aggregators.compression.num_leaves(\n",
        "        aggregated_params)\n",
        "    # 32 bits for every float used and one bit for every parameter.\n",
        "    new_bits = total_num_params + 32 * total_num_floats\n",
        "    # Possibly update thresholds.\n",
        "    if update_thresholds:\n",
        "      thresholds_tree_def = jax.tree_util.tree_structure(\n",
        "          aggregator_state.thresholds)\n",
        "      new_thresholds = jax.tree_util.tree_unflatten(thresholds_tree_def,\n",
        "                                                    new_thresholds_leaves)\n",
        "    else:\n",
        "      new_thresholds = aggregator_state.thresholds\n",
        "    new_aggregator_state = CorrelatedCompressionState(\n",
        "        num_bits=aggregator_state.num_bits + new_bits,\n",
        "        rng=rng,\n",
        "        thresholds=new_thresholds)\n",
        "    return aggregated_params, new_aggregator_state\n",
        "\n",
        "  return fedjax.aggregators.Aggregator(init, apply)"
      ]
    },
    {
      "cell_type": "markdown",
      "metadata": {
        "id": "xSd3O3SVvk1o"
      },
      "source": [
        "## Experiment utils"
      ]
    },
    {
      "cell_type": "code",
      "execution_count": null,
      "metadata": {
        "id": "u_7zDICmn_3R"
      },
      "outputs": [],
      "source": [
        "def get_quantizers(rng, num_levels, num_clients, thresholds, update_thresholds):\n",
        "  return {\n",
        "      'None':\n",
        "          fedjax.aggregators.mean_aggregator(),\n",
        "      'Independent':\n",
        "          fedjax.aggregators.compression.uniform_stochastic_quantizer(\n",
        "              num_levels, rng),\n",
        "      'Independent+Rotation':\n",
        "          fedjax.aggregators.compression.rotated_uniform_stochastic_quantizer(\n",
        "              num_levels, rng),\n",
        "      'TernGrad':\n",
        "          fedjax.aggregators.compression.terngrad_quantizer(rng),\n",
        "      'DRIVE':\n",
        "          fedjax.aggregators.compression.structured_drive_quantizer(rng),\n",
        "      'Correlated':\n",
        "          correlated_stochastic_quantizer(num_levels, rng, num_clients,\n",
        "                                          thresholds, update_thresholds),\n",
        "      'Correlated+Rotation':\n",
        "          correlated_stochastic_quantizer(\n",
        "              num_levels,\n",
        "              rng,\n",
        "              num_clients,\n",
        "              thresholds,\n",
        "              update_thresholds,\n",
        "              rotate=True),\n",
        "  }"
      ]
    },
    {
      "cell_type": "code",
      "execution_count": null,
      "metadata": {
        "id": "uGMX_q1gny03"
      },
      "outputs": [],
      "source": [
        "def depends_on_num_levels(quantizer_name):\n",
        "  return quantizer_name not in ('None', 'DRIVE', 'TernGrad')\n",
        "\n",
        "\n",
        "def only_independent_and_correlated(quantizers):\n",
        "  return {\n",
        "      k: v for k, v in quantizers.items() if k in ('Independent', 'Correlated')\n",
        "  }\n",
        "\n",
        "\n",
        "def only_independent_and_correlated_and_rotation(quantizers):\n",
        "  return {\n",
        "      k: v\n",
        "      for k, v in quantizers.items()\n",
        "      if k in ('Independent', 'Correlated', 'Correlated+Rotation',\n",
        "               'Independent+Rotation')\n",
        "  }"
      ]
    },
    {
      "cell_type": "markdown",
      "metadata": {
        "id": "uILq4xMp0_f_"
      },
      "source": [
        "## Toy Examples"
      ]
    },
    {
      "cell_type": "markdown",
      "metadata": {
        "id": "-RRqTsj7xXk2"
      },
      "source": [
        "### Correlated vs independent stochastic quantization\n",
        "\n",
        "We first compare correlated and independent stochastic\n",
        "quantizations on a simple mean estimation task.\n",
        "\n",
        "Let x1,x2,...,xn be n i.i.d ̇ samples over R16, where each\n",
        "coordinate is sampled independently according to μ + U,\n",
        "where μ is a uniform random variable between [0,1] and is\n",
        "fixed for all clients and U is a independent random variable\n",
        "for each client in the range −[4σmd,4σmd]. We refer to this\n",
        "distribution as punif. Note that punif has mean deviation of\n",
        "σmd."
      ]
    },
    {
      "cell_type": "code",
      "execution_count": null,
      "metadata": {
        "id": "nXIRZEu6xvY-"
      },
      "outputs": [],
      "source": [
        "@functools.partial(jax.jit, static_argnums=(3, 4))\n",
        "def _sample(rng, mean, sigmamd, dimension, dist):\n",
        "  rng, use_rng = jax.random.split(rng)\n",
        "  if dist == 'punif':\n",
        "    x = mean + 4 * sigmamd * jax.random.uniform(use_rng, shape=[dimension])\n",
        "    return (x, rng)\n",
        "\n",
        "\n",
        "def run_dist_mean(aggregator,\n",
        "                  mean,\n",
        "                  sigmamd,\n",
        "                  num_clients,\n",
        "                  rng,\n",
        "                  dimension=16,\n",
        "                  num_iters=10,\n",
        "                  dist='punif'):\n",
        "  start = time.time()\n",
        "  distances = []\n",
        "  state = aggregator.init()\n",
        "  true_mean_aggregator = fedjax.aggregators.mean_aggregator()\n",
        "  true_mean_empty_state = true_mean_aggregator.init()\n",
        "  for iter_num in range(num_iters + 1):\n",
        "    client_id_x_weights = []\n",
        "    for i in range(num_clients):\n",
        "      x, rng = _sample(rng, mean, sigmamd, dimension, dist)\n",
        "      client_id_x_weights.append((i, x, 1))\n",
        "    true_mean, _ = true_mean_aggregator.apply(client_id_x_weights,\n",
        "                                              true_mean_empty_state)\n",
        "    aggregated_mean, state = aggregator.apply(client_id_x_weights, state)\n",
        "    if iter_num \u003e 0:\n",
        "      # We skip the first iteration, so thresholds can be set correctly for\n",
        "      # all the algorithms.\n",
        "      distance = jnp.linalg.norm(aggregated_mean - true_mean)\n",
        "      distances.append(distance)\n",
        "  print(f'average iteration duration = {(time.time() - start) / num_iters} sec')\n",
        "  return jnp.array(distances)"
      ]
    },
    {
      "cell_type": "markdown",
      "metadata": {
        "id": "21VVEZutzOgp"
      },
      "source": [
        "We first fix the number of clients to be 100, k = 2,\n",
        "and vary σmd"
      ]
    },
    {
      "cell_type": "code",
      "execution_count": null,
      "metadata": {
        "executionInfo": {
          "elapsed": 8459,
          "status": "ok",
          "timestamp": 1655222141811,
          "user": {
            "displayName": "",
            "userId": ""
          },
          "user_tz": 240
        },
        "id": "L6kb95dvzK-h",
        "outputId": "cbd19278-ef19-47f9-d65b-9d5b826345b3"
      },
      "outputs": [
        {
          "name": "stdout",
          "output_type": "stream",
          "text": [
            "average iteration duration = 0.09524037837982177 sec\n",
            "Finished Independent sigmamd=0.01\n",
            "average iteration duration = 0.15844807624816895 sec\n",
            "Finished Correlated sigmamd=0.01\n",
            "average iteration duration = 0.0670081615447998 sec\n",
            "Finished Independent sigmamd=0.02\n",
            "average iteration duration = 0.0768273115158081 sec\n",
            "Finished Correlated sigmamd=0.02\n",
            "average iteration duration = 0.06845130920410156 sec\n",
            "Finished Independent sigmamd=0.04\n",
            "average iteration duration = 0.07678096294403076 sec\n",
            "Finished Correlated sigmamd=0.04\n",
            "average iteration duration = 0.06818304061889649 sec\n",
            "Finished Independent sigmamd=0.08\n",
            "average iteration duration = 0.07252368927001954 sec\n",
            "Finished Correlated sigmamd=0.08\n",
            "average iteration duration = 0.06320054531097412 sec\n",
            "Finished Independent sigmamd=0.16\n",
            "average iteration duration = 0.07288186550140381 sec\n",
            "Finished Correlated sigmamd=0.16\n"
          ]
        }
      ],
      "source": [
        "def run_vary_sigmamd(seed, sigmamd_range):\n",
        "  rng, mean_rng, quant_rng = jax.random.split(jax.random.PRNGKey(seed), 3)\n",
        "  dimension = 1024\n",
        "  mean = jax.random.uniform(key=mean_rng, shape=[dimension])\n",
        "  num_clients = 100\n",
        "\n",
        "  vary_sigmamd_metrics = {}\n",
        "  for sigmamd in sigmamd_range:\n",
        "    quantizers = get_quantizers(\n",
        "        quant_rng,\n",
        "        num_levels=2,\n",
        "        num_clients=num_clients,\n",
        "        thresholds=jnp.array([0, 1. + 4 * sigmamd]),\n",
        "        update_thresholds=False)\n",
        "    # Just independent and correlated.\n",
        "    quantizers = only_independent_and_correlated(quantizers)\n",
        "    for quantizer_name, quantizer_agg in quantizers.items():\n",
        "      if quantizer_name not in vary_sigmamd_metrics:\n",
        "        vary_sigmamd_metrics[quantizer_name] = {'sigmamd': [], 'distances': []}\n",
        "      vary_sigmamd_metrics[quantizer_name]['sigmamd'].append(sigmamd)\n",
        "      distances = run_dist_mean(\n",
        "          quantizer_agg,\n",
        "          mean,\n",
        "          sigmamd,\n",
        "          num_clients,\n",
        "          rng,\n",
        "          dimension,\n",
        "          num_iters=10)\n",
        "      vary_sigmamd_metrics[quantizer_name]['distances'].append(distances)\n",
        "      print(f'Finished {quantizer_name} sigmamd={sigmamd}')\n",
        "  return vary_sigmamd_metrics\n",
        "\n",
        "\n",
        "vary_sigmamd_metrics = run_vary_sigmamd(\n",
        "    seed=47, sigmamd_range=[0.01, 0.02, 0.04, 0.08, 0.16])"
      ]
    },
    {
      "cell_type": "code",
      "execution_count": null,
      "metadata": {
        "colab": {
          "height": 287
        },
        "executionInfo": {
          "elapsed": 272,
          "status": "ok",
          "timestamp": 1655222142200,
          "user": {
            "displayName": "",
            "userId": ""
          },
          "user_tz": 240
        },
        "id": "en247bQ515Kd",
        "outputId": "b9354e51-71f5-4a1c-cff6-9b1b7f544763"
      },
      "outputs": [
        {
          "data": {
            "image/png": "[encoded data removed]",
            "text/plain": [
              "\u003cFigure size 600x400 with 1 Axes\u003e"
            ]
          },
          "metadata": {},
          "output_type": "display_data"
        }
      ],
      "source": [
        "font = {'family': 'normal', 'weight': 'normal', 'size': 14}\n",
        "matplotlib.rc('font', **font)\n",
        "\n",
        "for quant_name, metrics in vary_sigmamd_metrics.items():\n",
        "  distances = jnp.array(metrics['distances'])\n",
        "  plt.errorbar(\n",
        "      metrics['sigmamd'],\n",
        "      jnp.mean(distances, axis=1),\n",
        "      jnp.std(distances, axis=1),\n",
        "      label=quant_name)\n",
        "plt.legend()\n",
        "plt.xlabel('σ_md')\n",
        "plt.ylabel('RMSE')\n",
        "plt.xscale('log')\n",
        "plt.xticks(\n",
        "    ticks=metrics['sigmamd'], labels=[f'{s}' for s in metrics['sigmamd']])\n",
        "plt.grid()"
      ]
    },
    {
      "cell_type": "markdown",
      "metadata": {
        "id": "4ZtJn5ekzQzE"
      },
      "source": [
        "We then fix σmd = 0.1, k = 2 and vary the number of clients n"
      ]
    },
    {
      "cell_type": "code",
      "execution_count": null,
      "metadata": {
        "executionInfo": {
          "elapsed": 4185,
          "status": "ok",
          "timestamp": 1655222146520,
          "user": {
            "displayName": "",
            "userId": ""
          },
          "user_tz": 240
        },
        "id": "h6AewpRa3M9B",
        "outputId": "a1b2cb80-612b-4cb6-a0ef-2bd7055ee339"
      },
      "outputs": [
        {
          "name": "stdout",
          "output_type": "stream",
          "text": [
            "average iteration duration = 0.007196378707885742 sec\n",
            "Finished Independent num_clients=10\n",
            "average iteration duration = 0.008314847946166992 sec\n",
            "Finished Correlated num_clients=10\n",
            "average iteration duration = 0.013132882118225098 sec\n",
            "Finished Independent num_clients=20\n",
            "average iteration duration = 0.015232324600219727 sec\n",
            "Finished Correlated num_clients=20\n",
            "average iteration duration = 0.025438404083251952 sec\n",
            "Finished Independent num_clients=40\n",
            "average iteration duration = 0.02936675548553467 sec\n",
            "Finished Correlated num_clients=40\n",
            "average iteration duration = 0.050972604751586915 sec\n",
            "Finished Independent num_clients=80\n",
            "average iteration duration = 0.058064842224121095 sec\n",
            "Finished Correlated num_clients=80\n",
            "average iteration duration = 0.10061771869659424 sec\n",
            "Finished Independent num_clients=160\n",
            "average iteration duration = 0.10609335899353027 sec\n",
            "Finished Correlated num_clients=160\n"
          ]
        }
      ],
      "source": [
        "def run_vary_num_clients(seed, num_clients_range):\n",
        "  rng, mean_rng, quant_rng = jax.random.split(jax.random.PRNGKey(seed), 3)\n",
        "  dimension = 1024\n",
        "  mean = jax.random.uniform(key=mean_rng, shape=[dimension])\n",
        "  sigmamd = 0.01\n",
        "\n",
        "  vary_num_clients_metrics = {}\n",
        "  for num_clients in num_clients_range:\n",
        "    quantizers = get_quantizers(\n",
        "        quant_rng,\n",
        "        num_levels=2,\n",
        "        num_clients=num_clients,\n",
        "        thresholds=jnp.array([0., 1. + 4 * sigmamd]),\n",
        "        update_thresholds=False)\n",
        "    # Just independent and correlated.\n",
        "    quantizers = only_independent_and_correlated(quantizers)\n",
        "    for quantizer_name, quantizer_agg in quantizers.items():\n",
        "      if quantizer_name not in vary_num_clients_metrics:\n",
        "        vary_num_clients_metrics[quantizer_name] = {\n",
        "            'num_clients': [],\n",
        "            'distances': [],\n",
        "        }\n",
        "      vary_num_clients_metrics[quantizer_name]['num_clients'].append(\n",
        "          num_clients)\n",
        "      distances = run_dist_mean(\n",
        "          quantizer_agg,\n",
        "          mean,\n",
        "          sigmamd,\n",
        "          num_clients,\n",
        "          rng,\n",
        "          dimension,\n",
        "          num_iters=10)\n",
        "      vary_num_clients_metrics[quantizer_name]['distances'].append(distances)\n",
        "      print(f'Finished {quantizer_name} num_clients={num_clients}')\n",
        "  return vary_num_clients_metrics\n",
        "\n",
        "\n",
        "vary_num_clients_metrics = run_vary_num_clients(\n",
        "    seed=47, num_clients_range=[10, 20, 40, 80, 160])"
      ]
    },
    {
      "cell_type": "code",
      "execution_count": null,
      "metadata": {
        "colab": {
          "height": 287
        },
        "executionInfo": {
          "elapsed": 272,
          "status": "ok",
          "timestamp": 1655222146899,
          "user": {
            "displayName": "",
            "userId": ""
          },
          "user_tz": 240
        },
        "id": "FKxeknKM36qA",
        "outputId": "88013f32-812e-44da-b7d7-9e3f0ecb90bb"
      },
      "outputs": [
        {
          "data": {
            "image/png": "[encoded data removed]",
            "text/plain": [
              "\u003cFigure size 600x400 with 1 Axes\u003e"
            ]
          },
          "metadata": {},
          "output_type": "display_data"
        }
      ],
      "source": [
        "for quant_name, metrics in vary_num_clients_metrics.items():\n",
        "  distances = jnp.array(metrics['distances'])\n",
        "  distances = jnp.log2(distances)\n",
        "  plt.errorbar(\n",
        "      metrics['num_clients'],\n",
        "      jnp.mean(distances, axis=1),\n",
        "      jnp.std(distances, axis=1),\n",
        "      label=quant_name)\n",
        "plt.legend()\n",
        "plt.xlabel('n')\n",
        "plt.ylabel('log_2(RMSE)')\n",
        "plt.xscale('log')\n",
        "plt.xticks(\n",
        "    ticks=metrics['num_clients'],\n",
        "    labels=[f'{s}' for s in metrics['num_clients']])\n",
        "plt.grid()"
      ]
    },
    {
      "cell_type": "markdown",
      "metadata": {
        "id": "OIXkn49QzS--"
      },
      "source": [
        "Finally, we fix σmd = 0.1, n = 100 and vary k (num_levels for quantization)"
      ]
    },
    {
      "cell_type": "code",
      "execution_count": null,
      "metadata": {
        "executionInfo": {
          "elapsed": 8181,
          "status": "ok",
          "timestamp": 1655222155227,
          "user": {
            "displayName": "",
            "userId": ""
          },
          "user_tz": 240
        },
        "id": "PwQGDp_g4j6x",
        "outputId": "2389d9f0-7986-4d1c-ebef-60fd285353df"
      },
      "outputs": [
        {
          "name": "stdout",
          "output_type": "stream",
          "text": [
            "average iteration duration = 0.05775604248046875 sec\n",
            "Finished Independent num_levels=2\n",
            "average iteration duration = 0.06628715991973877 sec\n",
            "Finished Correlated num_levels=2\n",
            "average iteration duration = 0.05905413627624512 sec\n",
            "Finished Independent num_levels=4\n",
            "average iteration duration = 0.1655507802963257 sec\n",
            "Finished Correlated num_levels=4\n",
            "average iteration duration = 0.05975663661956787 sec\n",
            "Finished Independent num_levels=8\n",
            "average iteration duration = 0.16222875118255614 sec\n",
            "Finished Correlated num_levels=8\n",
            "average iteration duration = 0.057678961753845216 sec\n",
            "Finished Independent num_levels=16\n",
            "average iteration duration = 0.18105154037475585 sec\n",
            "Finished Correlated num_levels=16\n"
          ]
        }
      ],
      "source": [
        "def run_vary_num_levels(seed, num_levels_range):\n",
        "  rng, mean_rng, quant_rng = jax.random.split(jax.random.PRNGKey(seed), 3)\n",
        "  dimension = 1024\n",
        "  mean = jax.random.uniform(key=mean_rng, shape=[dimension])\n",
        "  sigmamd = 0.01\n",
        "  num_clients = 100\n",
        "\n",
        "  vary_num_levels_metrics = {}\n",
        "  for num_levels in num_levels_range:\n",
        "    quantizers = get_quantizers(\n",
        "        quant_rng,\n",
        "        num_levels=num_levels,\n",
        "        num_clients=num_clients,\n",
        "        thresholds=jnp.array([0., 1. + 4 * sigmamd]),\n",
        "        update_thresholds=False)\n",
        "    # Just independent and correlated.\n",
        "    quantizers = only_independent_and_correlated(quantizers)\n",
        "    for quantizer_name, quantizer_agg in quantizers.items():\n",
        "      if quantizer_name not in vary_num_levels_metrics:\n",
        "        vary_num_levels_metrics[quantizer_name] = {\n",
        "            'num_levels': [],\n",
        "            'distances': [],\n",
        "        }\n",
        "      vary_num_levels_metrics[quantizer_name]['num_levels'].append(num_levels)\n",
        "      distances = run_dist_mean(\n",
        "          quantizer_agg,\n",
        "          mean,\n",
        "          sigmamd,\n",
        "          num_clients,\n",
        "          rng,\n",
        "          dimension,\n",
        "          num_iters=10)\n",
        "      vary_num_levels_metrics[quantizer_name]['distances'].append(distances)\n",
        "      print(f'Finished {quantizer_name} num_levels={num_levels}')\n",
        "  return vary_num_levels_metrics\n",
        "\n",
        "\n",
        "vary_num_levels_metrics = run_vary_num_levels(\n",
        "    seed=49, num_levels_range=[2, 4, 8, 16])"
      ]
    },
    {
      "cell_type": "code",
      "execution_count": null,
      "metadata": {
        "colab": {
          "height": 290
        },
        "executionInfo": {
          "elapsed": 321,
          "status": "ok",
          "timestamp": 1655222155656,
          "user": {
            "displayName": "",
            "userId": ""
          },
          "user_tz": 240
        },
        "id": "n-HSAxzU4lVJ",
        "outputId": "078de143-b223-42c6-cf1d-1fd725908e72"
      },
      "outputs": [
        {
          "data": {
            "image/png": "[encoded data removed]",
            "text/plain": [
              "\u003cFigure size 600x400 with 1 Axes\u003e"
            ]
          },
          "metadata": {},
          "output_type": "display_data"
        }
      ],
      "source": [
        "for quant_name, metrics in vary_num_levels_metrics.items():\n",
        "  distances = jnp.array(metrics['distances'])\n",
        "  distances = jnp.log2(distances)\n",
        "  plt.errorbar(\n",
        "      metrics['num_levels'],\n",
        "      jnp.mean(distances, axis=1),\n",
        "      jnp.std(distances, axis=1),\n",
        "      label=quant_name)\n",
        "plt.legend()\n",
        "plt.xlabel('k')\n",
        "plt.ylabel('log_2(RMSE)')\n",
        "plt.xscale('log')\n",
        "plt.xticks(\n",
        "    ticks=metrics['num_levels'], labels=[f'{s}' for s in metrics['num_levels']])\n",
        "plt.grid()"
      ]
    },
    {
      "cell_type": "markdown",
      "metadata": {
        "id": "wTRLRrJI5MQo"
      },
      "source": [
        "### Effect of random rotation"
      ]
    },
    {
      "cell_type": "code",
      "execution_count": null,
      "metadata": {
        "executionInfo": {
          "elapsed": 18859,
          "status": "ok",
          "timestamp": 1655222174643,
          "user": {
            "displayName": "",
            "userId": ""
          },
          "user_tz": 240
        },
        "id": "Iexcvoiq5N3j",
        "outputId": "c94098c4-382b-452e-9d52-5e2895a2a729"
      },
      "outputs": [
        {
          "name": "stdout",
          "output_type": "stream",
          "text": [
            "average iteration duration = 0.006658339500427246 sec\n",
            "Finished Independent num_clients=10\n",
            "average iteration duration = 0.017993879318237305 sec\n",
            "Finished Independent+Rotation num_clients=10\n",
            "average iteration duration = 0.009804701805114746 sec\n",
            "Finished Correlated num_clients=10\n",
            "average iteration duration = 0.021608376502990724 sec\n",
            "Finished Correlated+Rotation num_clients=10\n",
            "average iteration duration = 0.01237177848815918 sec\n",
            "Finished Independent num_clients=20\n",
            "average iteration duration = 0.035716915130615236 sec\n",
            "Finished Independent+Rotation num_clients=20\n",
            "average iteration duration = 0.01870095729827881 sec\n",
            "Finished Correlated num_clients=20\n",
            "average iteration duration = 0.04345259666442871 sec\n",
            "Finished Correlated+Rotation num_clients=20\n",
            "average iteration duration = 0.02495608329772949 sec\n",
            "Finished Independent num_clients=40\n",
            "average iteration duration = 0.07456431388854981 sec\n",
            "Finished Independent+Rotation num_clients=40\n",
            "average iteration duration = 0.03832178115844727 sec\n",
            "Finished Correlated num_clients=40\n",
            "average iteration duration = 0.08971476554870605 sec\n",
            "Finished Correlated+Rotation num_clients=40\n",
            "average iteration duration = 0.05002868175506592 sec\n",
            "Finished Independent num_clients=80\n",
            "average iteration duration = 0.16012856960296631 sec\n",
            "Finished Independent+Rotation num_clients=80\n",
            "average iteration duration = 0.08111007213592529 sec\n",
            "Finished Correlated num_clients=80\n",
            "average iteration duration = 0.19106519222259521 sec\n",
            "Finished Correlated+Rotation num_clients=80\n",
            "average iteration duration = 0.11671614646911621 sec\n",
            "Finished Independent num_clients=160\n",
            "average iteration duration = 0.3295882225036621 sec\n",
            "Finished Independent+Rotation num_clients=160\n",
            "average iteration duration = 0.1633741855621338 sec\n",
            "Finished Correlated num_clients=160\n",
            "average iteration duration = 0.38899822235107423 sec\n",
            "Finished Correlated+Rotation num_clients=160\n"
          ]
        }
      ],
      "source": [
        "def run_vary_num_clients(seed, num_clients_range):\n",
        "  rng, mean_rng, quant_rng = jax.random.split(jax.random.PRNGKey(seed), 3)\n",
        "  dimension = 1024\n",
        "  mean = jnp.zeros(shape=[dimension])\n",
        "  mean = mean.at[0].set(1.)\n",
        "  mean = mean.at[1].set(-1.)\n",
        "  sigmamd = 0.01\n",
        "\n",
        "  vary_num_clients_metrics = {}\n",
        "  for num_clients in num_clients_range:\n",
        "    quantizers = get_quantizers(\n",
        "        quant_rng,\n",
        "        num_levels=2,\n",
        "        num_clients=num_clients,\n",
        "        thresholds=jnp.array([0., 1. + 4 * sigmamd]),\n",
        "        update_thresholds=True)\n",
        "    # Just independent and correlated.\n",
        "    quantizers = only_independent_and_correlated_and_rotation(quantizers)\n",
        "    for quantizer_name, quantizer_agg in quantizers.items():\n",
        "      if quantizer_name not in vary_num_clients_metrics:\n",
        "        vary_num_clients_metrics[quantizer_name] = {\n",
        "            'num_clients': [],\n",
        "            'distances': [],\n",
        "        }\n",
        "      vary_num_clients_metrics[quantizer_name]['num_clients'].append(\n",
        "          num_clients)\n",
        "      distances = run_dist_mean(\n",
        "          quantizer_agg,\n",
        "          mean,\n",
        "          sigmamd,\n",
        "          num_clients,\n",
        "          rng,\n",
        "          dimension,\n",
        "          num_iters=10)\n",
        "      vary_num_clients_metrics[quantizer_name]['distances'].append(distances)\n",
        "      print(f'Finished {quantizer_name} num_clients={num_clients}')\n",
        "  return vary_num_clients_metrics\n",
        "\n",
        "\n",
        "vary_num_clients_metrics_rot = run_vary_num_clients(\n",
        "    seed=47, num_clients_range=[10, 20, 40, 80, 160])"
      ]
    },
    {
      "cell_type": "code",
      "execution_count": null,
      "metadata": {
        "colab": {
          "height": 293
        },
        "executionInfo": {
          "elapsed": 384,
          "status": "ok",
          "timestamp": 1655222175129,
          "user": {
            "displayName": "",
            "userId": ""
          },
          "user_tz": 240
        },
        "id": "gkGRDZaMH4Pt",
        "outputId": "1243a76e-921f-4534-d5f8-58f3118f6e9a"
      },
      "outputs": [
        {
          "data": {
            "image/png": "[encoded data removed]",
            "text/plain": [
              "\u003cFigure size 600x400 with 1 Axes\u003e"
            ]
          },
          "metadata": {},
          "output_type": "display_data"
        }
      ],
      "source": [
        "for quant_name, metrics in vary_num_clients_metrics_rot.items():\n",
        "  distances = jnp.array(metrics['distances'])\n",
        "  distances = jnp.log2(distances)\n",
        "  plt.errorbar(\n",
        "      metrics['num_clients'],\n",
        "      jnp.mean(distances, axis=1),\n",
        "      jnp.std(distances, axis=1),\n",
        "      label=quant_name)\n",
        "plt.legend()\n",
        "plt.xlabel('n')\n",
        "plt.ylabel('log_2(RMSE)')\n",
        "plt.ylim(top=4.0)\n",
        "plt.xscale('log')\n",
        "plt.xticks(\n",
        "    ticks=metrics['num_clients'],\n",
        "    labels=[f'{s}' for s in metrics['num_clients']])\n",
        "plt.grid()"
      ]
    },
    {
      "cell_type": "markdown",
      "metadata": {
        "id": "svG42IC8kcCc"
      },
      "source": [
        "### Distributed mean estimation"
      ]
    },
    {
      "cell_type": "code",
      "execution_count": null,
      "metadata": {
        "executionInfo": {
          "elapsed": 1153,
          "status": "ok",
          "timestamp": 1655222176419,
          "user": {
            "displayName": "",
            "userId": ""
          },
          "user_tz": 240
        },
        "id": "bNQd7kekkiug",
        "outputId": "a8c670f2-4d9b-4599-bb61-e7cc7fb39bda"
      },
      "outputs": [
        {
          "name": "stdout",
          "output_type": "stream",
          "text": [
            "average iteration duration = 0.004189801216125488 sec\n",
            "Finished None num_clients=10\n",
            "average iteration duration = 0.007928299903869628 sec\n",
            "Finished Independent num_clients=10\n",
            "average iteration duration = 0.02274901866912842 sec\n",
            "Finished Independent+Rotation num_clients=10\n",
            "average iteration duration = 0.007926297187805176 sec\n",
            "Finished TernGrad num_clients=10\n",
            "average iteration duration = 0.026503443717956543 sec\n",
            "Finished DRIVE num_clients=10\n",
            "average iteration duration = 0.011380410194396973 sec\n",
            "Finished Correlated num_clients=10\n",
            "average iteration duration = 0.025797653198242187 sec\n",
            "Finished Correlated+Rotation num_clients=10\n"
          ]
        }
      ],
      "source": [
        "def run_vary_num_clients(seed, num_clients_range):\n",
        "  rng, mean_rng, quant_rng = jax.random.split(jax.random.PRNGKey(seed), 3)\n",
        "  dimension = 1024\n",
        "  mean = jax.random.uniform(key=mean_rng, shape=[dimension])\n",
        "  mean = jnp.where(mean \u003e 0.99, 1. * jnp.sign(mean - 0.995), 0.)\n",
        "  sigmamd = 0.01\n",
        "\n",
        "  vary_num_clients_metrics = {}\n",
        "  for num_clients in num_clients_range:\n",
        "    quantizers = get_quantizers(\n",
        "        quant_rng,\n",
        "        num_levels=2,\n",
        "        num_clients=num_clients,\n",
        "        thresholds=jnp.array([0., 1. + 4 * sigmamd]),\n",
        "        update_thresholds=True)\n",
        "    for quantizer_name, quantizer_agg in quantizers.items():\n",
        "      if quantizer_name not in vary_num_clients_metrics:\n",
        "        vary_num_clients_metrics[quantizer_name] = {\n",
        "            'num_clients': [],\n",
        "            'distances': [],\n",
        "        }\n",
        "      vary_num_clients_metrics[quantizer_name]['num_clients'].append(\n",
        "          num_clients)\n",
        "      distances = run_dist_mean(\n",
        "          quantizer_agg,\n",
        "          mean,\n",
        "          sigmamd,\n",
        "          num_clients,\n",
        "          rng,\n",
        "          dimension,\n",
        "          dist='punif',\n",
        "          num_iters=10)\n",
        "      vary_num_clients_metrics[quantizer_name]['distances'].append(distances)\n",
        "      print(f'Finished {quantizer_name} num_clients={num_clients}')\n",
        "  return vary_num_clients_metrics\n",
        "\n",
        "vary_num_clients_metrics = run_vary_num_clients(\n",
        "    seed=47, num_clients_range=[10])"
      ]
    },
    {
      "cell_type": "code",
      "execution_count": null,
      "metadata": {
        "executionInfo": {
          "elapsed": 158,
          "status": "ok",
          "timestamp": 1655222176668,
          "user": {
            "displayName": "",
            "userId": ""
          },
          "user_tz": 240
        },
        "id": "ynUQJ2_fmc-D",
        "outputId": "458aadba-7df9-47c6-922f-2ee925667795"
      },
      "outputs": [
        {
          "name": "stdout",
          "output_type": "stream",
          "text": [
            "None 0.0 0.0\n",
            "Independent 10.279256 0.24624498\n",
            "Independent+Rotation 3.287459 0.19471912\n",
            "TernGrad 2.6432343 0.0067978394\n",
            "DRIVE 1.379775 0.011784801\n",
            "Correlated 1.401985 0.05315395\n",
            "Correlated+Rotation 1.0122799 0.055120073\n"
          ]
        }
      ],
      "source": [
        "for quant_name, metrics in vary_num_clients_metrics.items():\n",
        "  distances = jnp.array(metrics['distances'])\n",
        "  print(quant_name,\n",
        "        jnp.mean(distances, axis=1)[0],\n",
        "        jnp.std(distances, axis=1)[0])"
      ]
    },
    {
      "cell_type": "markdown",
      "metadata": {
        "id": "44HRISWleYQE"
      },
      "source": [
        "## MNIST (d=784)\n",
        "\n",
        "MNIST dataset with pixels (28, 28) flattened (784)."
      ]
    },
    {
      "cell_type": "code",
      "execution_count": null,
      "metadata": {
        "id": "XjivBbQgeiVQ"
      },
      "outputs": [],
      "source": [
        "DIMENSION = 784\n",
        "\n",
        "def flatten_pad_normalize(d):\n",
        "  return tf.pad(tf.reshape(d['image'], [-1]), [[0, DIMENSION - 784]]) / 255\n",
        "\n",
        "\n",
        "mnist_ds = tfds.load(name='mnist', split='train')\n",
        "# Read into memory.\n",
        "mnist_x = jnp.array(\n",
        "    list(mnist_ds.map(flatten_pad_normalize).as_numpy_iterator()))"
      ]
    },
    {
      "cell_type": "code",
      "execution_count": null,
      "metadata": {
        "id": "oR4PeCeal649"
      },
      "outputs": [],
      "source": [
        "def partition_data(x, k, rng):\n",
        "  partitions = []\n",
        "  num_examples = x.shape[0]\n",
        "  perm = jax.random.permutation(rng, num_examples)\n",
        "  num_per_client = math.floor(num_examples / k)\n",
        "  for i in range(k):\n",
        "    low = i * num_per_client\n",
        "    # In case it can't be split evenly.\n",
        "    if (i + 1) == k:\n",
        "      high = num_examples\n",
        "    else:\n",
        "      high = (i + 1) * num_per_client\n",
        "    partitions.append(x[perm[low:high], :])\n",
        "  return partitions"
      ]
    },
    {
      "cell_type": "markdown",
      "metadata": {
        "id": "fdqQHXTnt7J2"
      },
      "source": [
        "### Distributed mean estimation"
      ]
    },
    {
      "cell_type": "code",
      "execution_count": null,
      "metadata": {
        "executionInfo": {
          "elapsed": 34304,
          "status": "ok",
          "timestamp": 1655222216786,
          "user": {
            "displayName": "",
            "userId": ""
          },
          "user_tz": 240
        },
        "id": "aLtr12T6uWQw",
        "outputId": "e6659ae5-7ffc-4bfe-eb30-9e11604be540"
      },
      "outputs": [
        {
          "name": "stdout",
          "output_type": "stream",
          "text": [
            "Average iteration duration = 0.7497335910797119 sec\n",
            "Finished None num_levels=2 seed=47\n",
            "Average iteration duration = 0.37792370319366453 sec\n",
            "Finished Independent num_levels=2 seed=47\n",
            "Average iteration duration = 0.4828263521194458 sec\n",
            "Finished Independent+Rotation num_levels=2 seed=47\n",
            "Average iteration duration = 0.36852154731750486 sec\n",
            "Finished TernGrad num_levels=2 seed=47\n",
            "Average iteration duration = 0.4691723108291626 sec"
          ]
        },
        {
          "name": "stdout",
          "output_type": "stream",
          "text": [
            "\n",
            "Finished DRIVE num_levels=2 seed=47\n",
            "Average iteration duration = 0.46879849433898924 sec\n",
            "Finished Correlated num_levels=2 seed=47\n",
            "Average iteration duration = 0.5017465114593506 sec\n",
            "Finished Correlated+Rotation num_levels=2 seed=47\n"
          ]
        }
      ],
      "source": [
        "def run_dist_mean2(x,\n",
        "                   aggregator,\n",
        "                   rng,\n",
        "                   num_clients=100,\n",
        "                   num_iters=10,\n",
        "                   verbose=True):\n",
        "  start = time.time()\n",
        "  experiment_metrics = {\n",
        "      'distances': [],\n",
        "  }\n",
        "  # Ground truth mean.\n",
        "  true_mean = jnp.mean(x, axis=0)\n",
        "  # Init aggregator state.\n",
        "  aggregator_state = aggregator.init()\n",
        "  for it in range(num_iters + 1):\n",
        "    rng, client_rng = jax.random.split(rng)\n",
        "    # Split and distribute clients.\n",
        "    clients = partition_data(x, num_clients, client_rng)\n",
        "    local_means = []\n",
        "    local_weights = []\n",
        "    for local_x in clients:\n",
        "      local_means.append(jnp.mean(local_x, axis=0))\n",
        "      local_weights.append(local_x.shape[0])\n",
        "    aggregated_mean, aggregator_state = aggregator.apply(\n",
        "        [(j, local_means[j], local_weights[j]) for j in range(num_clients)],\n",
        "        aggregator_state)\n",
        "    # Distance between current estimated mean and groundtruth mean.\n",
        "    distance = jnp.linalg.norm(true_mean - aggregated_mean)\n",
        "    if it \u003e 0:\n",
        "      experiment_metrics['distances'].append(distance)\n",
        "  end = time.time()\n",
        "  print(f'Average iteration duration = {(end - start)/num_iters} sec')\n",
        "  return {k: jnp.array(v) for k, v in experiment_metrics.items()}\n",
        "\n",
        "\n",
        "def run_dist_mean2_experiment(seed, num_levels_range):\n",
        "  experiment_metrics = {}\n",
        "  for num_levels in num_levels_range:\n",
        "    key = f'num_levels={num_levels} seed={seed}'\n",
        "    experiment_metrics[key] = {}\n",
        "    mean_metrics = experiment_metrics[key]\n",
        "    num_clients = 100\n",
        "    rng = jax.random.PRNGKey(seed)\n",
        "    rng, quant_rng = jax.random.split(rng)\n",
        "    quantizers = get_quantizers(\n",
        "        rng=quant_rng,\n",
        "        num_levels=num_levels,\n",
        "        num_clients=num_clients,\n",
        "        thresholds=jnp.array([0., 1.]),\n",
        "        update_thresholds=True)\n",
        "    for quantizer_name, quantizer in quantizers.items():\n",
        "      mean_metrics[quantizer_name] = run_dist_mean2(\n",
        "          mnist_x,\n",
        "          quantizer,\n",
        "          rng,\n",
        "          num_clients=num_clients,\n",
        "          num_iters=10,\n",
        "          verbose=False)\n",
        "      print(f'Finished {quantizer_name} {key}')\n",
        "  return experiment_metrics\n",
        "\n",
        "\n",
        "experiment_mean_metrics = run_dist_mean2_experiment(\n",
        "    seed=47, num_levels_range=[2])"
      ]
    },
    {
      "cell_type": "code",
      "execution_count": null,
      "metadata": {
        "executionInfo": {
          "elapsed": 113,
          "status": "ok",
          "timestamp": 1655222216999,
          "user": {
            "displayName": "",
            "userId": ""
          },
          "user_tz": 240
        },
        "id": "6VLT6mmOxRXO",
        "outputId": "f34a0789-2947-4afb-bc9e-ccaedc7afb17"
      },
      "outputs": [
        {
          "name": "stdout",
          "output_type": "stream",
          "text": [
            "None 1.1163191e-06 3.5329478e-08\n",
            "Independent 0.46585464 0.013661128\n",
            "Independent+Rotation 1.6608591 0.12572193\n",
            "TernGrad 0.6213985 0.005817535\n",
            "DRIVE 2.1653407 0.0057983226\n",
            "Correlated 0.14114387 0.0041163075\n",
            "Correlated+Rotation 0.23769055 0.011894402\n"
          ]
        }
      ],
      "source": [
        "for quantizer_name, metrics in experiment_mean_metrics[\n",
        "    'num_levels=2 seed=47'].items():\n",
        "  print(quantizer_name, jnp.mean(metrics['distances']),\n",
        "        jnp.std(metrics['distances']))"
      ]
    },
    {
      "cell_type": "markdown",
      "metadata": {
        "id": "QGCfC69vc6_W"
      },
      "source": [
        "### Distributed Lloyd's algorithm (k-means)\n",
        "\n",
        "MNIST (d=784)\n",
        "\n",
        "Each client has access to a subset of data points.\n",
        "In each iteration, the server broadcasts the cluster centers to all the clients.\n",
        "Each client updates the centers based on its local data, and sends the centers\n",
        "back to the server.\n",
        "The server then updates the centers by computing the weighted average of the\n",
        "centers sent from all clients.\n",
        "\n",
        "In the quantized setting, the client compresses the new centers before\n",
        "sending to the server. This saves the uplink communication cost.\n",
        "\n",
        "Number of centers and number of clients is 10."
      ]
    },
    {
      "cell_type": "code",
      "execution_count": null,
      "metadata": {
        "executionInfo": {
          "elapsed": 64,
          "status": "ok",
          "timestamp": 1655222217155,
          "user": {
            "displayName": "",
            "userId": ""
          },
          "user_tz": 240
        },
        "id": "do_HLaWC8Inr",
        "outputId": "34328e53-3de6-43d4-b5f7-825ff58bece6"
      },
      "outputs": [
        {
          "name": "stdout",
          "output_type": "stream",
          "text": [
            "[[6.        7.2111025 5.9160795]\n",
            " [8.185353  9.539392  8.717797 ]]\n"
          ]
        }
      ],
      "source": [
        "# [num_examples, d]\n",
        "X = jnp.array([[2, 3, 4, 2, 0, 0], [2, 3, 6, 2, 0, 0], [1, 3, 4, 2, 0, 0]])\n",
        "# [num_centers, d]\n",
        "centers = jnp.array([[1, -2, 1, 3, 0, 0], [6, -2, -1, 3, 0, 0]])\n",
        "\n",
        "# Manual calc to check for correctness.\n",
        "# [[6.0, 7.2111025, 5.9160795],\n",
        "#  [8.185352, 9.5393915, 8.717797]]\n",
        "# for c in centers:\n",
        "#   for x in X:\n",
        "#     print(c, x)\n",
        "#     print(jnp.linalg.norm(x - c))\n",
        "# matches behavior when using Matlab's pdist2 with euclidean\n",
        "# https://www.mathworks.com/help/stats/pdist2.html\n",
        "\n",
        "# Due to slow initial compilations for each shape (10 clients), try to run this\n",
        "# cell only once so we can use the cached compilations.\n",
        "# jit for speed\n",
        "distance = jax.jit(\n",
        "    # Outer vmap vectorizes over multiple centers and broadcasts examples.\n",
        "    jax.vmap(\n",
        "        # Inner vmap vectorizes over num examples and broadcasts center.\n",
        "        jax.vmap(\n",
        "            lambda x, center: jnp.linalg.norm(x - center), in_axes=(0, None)),\n",
        "        in_axes=(None, 0)))\n",
        "print(distance(X, centers))"
      ]
    },
    {
      "cell_type": "code",
      "execution_count": null,
      "metadata": {
        "id": "BgBYnhE2e7-l"
      },
      "outputs": [],
      "source": [
        "def choose_random_centers(x, k, rng):\n",
        "  num_examples = x.shape[0]\n",
        "  perm = jax.random.permutation(rng, num_examples)\n",
        "  return x[perm[:k], :]\n",
        "\n",
        "\n",
        "def single_kmeans_iter(x, centers):\n",
        "  # x is [num_examples, d]\n",
        "  # centers is [num_centers, d]\n",
        "  # dist is [num_centers, num_examples]\n",
        "  dist = distance(x, centers)\n",
        "  # obj_dist is [num_examples]\n",
        "  obj_dist = jnp.min(dist, axis=0)\n",
        "  # obj_label is [num_examples]\n",
        "  obj_label = jnp.argmin(dist, axis=0)\n",
        "  obj = jnp.sum(obj_dist)\n",
        "  new_centers = []\n",
        "  centers_weights = []\n",
        "  for i in range(centers.shape[0]):\n",
        "    mask = obj_label == i\n",
        "    num = jnp.sum(mask)\n",
        "    if num \u003e 0:\n",
        "      # Recompute center.\n",
        "      new_center = jnp.sum(jnp.expand_dims(mask, 1) * x, axis=0) / num\n",
        "      new_center = jnp.nan_to_num(new_center)\n",
        "      new_centers.append(new_center)\n",
        "    else:\n",
        "      # Keep original center.\n",
        "      # Dumb way to make sure there's no funny business going on with references\n",
        "      new_centers.append(jnp.ones_like(centers[i]) * centers[i])\n",
        "    centers_weights.append(num)\n",
        "  new_centers = jnp.array(new_centers)\n",
        "  centers_weights = jnp.array(centers_weights)\n",
        "  return (new_centers, centers_weights, obj)\n",
        "\n",
        "\n",
        "def choose_kmeanspp_centers(x, k, rng):\n",
        "  rng, use_rng = jax.random.split(rng)\n",
        "  num_examples = x.shape[0]\n",
        "  idx = jax.random.randint(use_rng, shape=(), minval=0, maxval=num_examples)\n",
        "  centers = [x[idx]]\n",
        "  for i in range(k - 1):\n",
        "    rng, use_rng = jax.random.split(rng)\n",
        "    dist = distance(x, jnp.array(centers))\n",
        "    obj = jnp.min(jnp.square(dist), axis=0)\n",
        "    probs = obj / jnp.sum(obj)\n",
        "    idx = jax.random.choice(use_rng, jnp.arange(num_examples), p=probs)\n",
        "    centers.append(x[idx])\n",
        "  return jnp.array(centers)"
      ]
    },
    {
      "cell_type": "code",
      "execution_count": null,
      "metadata": {
        "executionInfo": {
          "elapsed": 766408,
          "status": "ok",
          "timestamp": 1655222983805,
          "user": {
            "displayName": "",
            "userId": ""
          },
          "user_tz": 240
        },
        "id": "1ofW7cPb_O3s",
        "outputId": "33b3cd6c-35af-4d0e-e8e4-5fed5cb8d934"
      },
      "outputs": [
        {
          "name": "stdout",
          "output_type": "stream",
          "text": [
            "Average iteration duration = 9.991201472282409 sec\n",
            "Finished None num_levels=2 seed=47\n",
            "Average iteration duration = 9.663194298744202 sec\n",
            "Finished Independent num_levels=2 seed=47\n",
            "Average iteration duration = 13.386310291290282 sec\n",
            "Finished Independent+Rotation num_levels=2 seed=47\n",
            "Average iteration duration = 9.216503977775574 sec\n",
            "Finished TernGrad num_levels=2 seed=47\n",
            "Average iteration duration = 11.96887011528015 sec\n",
            "Finished DRIVE num_levels=2 seed=47\n",
            "Average iteration duration = 9.894971990585328 sec\n",
            "Finished Correlated num_levels=2 seed=47\n",
            "Average iteration duration = 12.42012686729431 sec\n",
            "Finished Correlated+Rotation num_levels=2 seed=47\n"
          ]
        }
      ],
      "source": [
        "def run_dist_kmeans(x,\n",
        "                    aggregator_name,\n",
        "                    aggregator,\n",
        "                    rng,\n",
        "                    num_clients=10,\n",
        "                    num_centers=10,\n",
        "                    num_rounds=50,\n",
        "                    num_iters=10,\n",
        "                    verbose=True):\n",
        "  start = time.time()\n",
        "  # Run multiple multiple trials.\n",
        "  metrics = {\n",
        "      'comm_rounds': [],\n",
        "      'round_dist': [],\n",
        "      'round_obj': [],\n",
        "      'centers': [],\n",
        "  }\n",
        "  # Aggregator state per center.\n",
        "  aggregator_states = [aggregator.init() for _ in range(num_centers)]\n",
        "  for it in range(num_iters + 1):\n",
        "    rng, client_rng, center_rng = jax.random.split(rng, 3)\n",
        "    # Split dataset EVENLY into i.i.d. clients.\n",
        "    clients = partition_data(x, num_clients, client_rng)\n",
        "    # # Initialize centers by randomly selecting N points in X.\n",
        "    # centers = choose_random_centers(x, num_centers, center_rng)\n",
        "    # Initialize centers via kmeans++ algorithm.\n",
        "    centers = choose_kmeanspp_centers(x, num_centers, center_rng)\n",
        "    comm_rounds = []\n",
        "    round_dist = []\n",
        "    round_obj = []\n",
        "    for t in range(num_rounds):\n",
        "      # [num_clients, num_centers, d]\n",
        "      client_centers = []\n",
        "      # [num_clients, num_centers]\n",
        "      client_weights = []\n",
        "      # [num_clients]\n",
        "      client_objectives = []\n",
        "      for local_x in clients:\n",
        "        local_centers, local_weights, _ = single_kmeans_iter(local_x, centers)\n",
        "        client_centers.append(local_centers)\n",
        "        client_weights.append(local_weights)\n",
        "      # Aggregate\n",
        "      new_aggregator_states = [None for _ in range(num_centers)]\n",
        "      new_centers = [None for _ in range(num_centers)]\n",
        "      for i in range(num_centers):\n",
        "        new_centers[i], new_aggregator_states[i] = aggregator.apply(\n",
        "            [(j, client_centers[j][i], client_weights[j][i])\n",
        "             for j in range(num_clients)], aggregator_states[i])\n",
        "      centers = jnp.nan_to_num(jnp.array(new_centers))\n",
        "      aggregator_states = new_aggregator_states\n",
        "      dist = distance(mnist_x, centers)\n",
        "      obj_dist = jnp.min(dist, axis=0)\n",
        "      round_dist.append(jnp.mean(obj_dist))\n",
        "      # Objective according to https://en.wikipedia.org/wiki/K-means_clustering\n",
        "      round_obj.append(jnp.mean(jnp.square(obj_dist)))\n",
        "      comm_rounds.append(t + 1)\n",
        "      if t % 10 == 0 and verbose:\n",
        "        print(f'{t} obj: {round_obj[t]} dist: {round_dist[t]}')\n",
        "    if it \u003e 0:\n",
        "      metrics['comm_rounds'].append(comm_rounds)\n",
        "      metrics['round_dist'].append(round_dist)\n",
        "      metrics['round_obj'].append(round_obj)\n",
        "      metrics['centers'].append(centers)\n",
        "  print(f'Average iteration duration = {(time.time() - start)/num_iters} sec')\n",
        "  return {k: jnp.array(v) for k, v in metrics.items()}\n",
        "\n",
        "\n",
        "def run_dist_kmeans_experiment(seed, num_levels_range):\n",
        "  experiment_metrics = {}\n",
        "  cache = {}\n",
        "  for num_levels in num_levels_range:\n",
        "    key = f'num_levels={num_levels} seed={seed}'\n",
        "    experiment_metrics[key] = {}\n",
        "    kmeans_metrics = experiment_metrics[key]\n",
        "    num_clients = 10\n",
        "    rng = jax.random.PRNGKey(seed)\n",
        "    rng, quant_rng = jax.random.split(rng)\n",
        "    quantizers = get_quantizers(\n",
        "        rng=quant_rng,\n",
        "        num_levels=num_levels,\n",
        "        num_clients=num_clients,\n",
        "        thresholds=jnp.array([0., 1.]),\n",
        "        update_thresholds=True)\n",
        "    for quantizer_name, quantizer in quantizers.items():\n",
        "      if not depends_on_num_levels(quantizer_name) and quantizer_name in cache:\n",
        "        # Does not depend on num_levels and already run so we can safely reuse.\n",
        "        kmeans_metrics[quantizer_name] = cache[quantizer_name]\n",
        "      else:\n",
        "        kmeans_metrics[quantizer_name] = run_dist_kmeans(\n",
        "            mnist_x,\n",
        "            quantizer_name,\n",
        "            quantizer,\n",
        "            rng,\n",
        "            num_clients=num_clients,\n",
        "            num_centers=10,\n",
        "            num_rounds=20,\n",
        "            num_iters=10,\n",
        "            verbose=False)\n",
        "        cache[quantizer_name] = kmeans_metrics[quantizer_name]\n",
        "      print(f'Finished {quantizer_name} {key}')\n",
        "  return experiment_metrics\n",
        "\n",
        "\n",
        "experiment_kmeans_metrics = run_dist_kmeans_experiment(\n",
        "    seed=47, num_levels_range=[2])"
      ]
    },
    {
      "cell_type": "code",
      "execution_count": null,
      "metadata": {
        "colab": {
          "height": 408
        },
        "executionInfo": {
          "elapsed": 615,
          "status": "ok",
          "timestamp": 1655222984538,
          "user": {
            "displayName": "",
            "userId": ""
          },
          "user_tz": 240
        },
        "id": "JBin4NsAzsix",
        "outputId": "23acfb50-9b2a-4546-f70a-364ddf57a9da"
      },
      "outputs": [
        {
          "name": "stdout",
          "output_type": "stream",
          "text": [
            "None 20.0 39.434612 0.118846945\n",
            "Independent 20.0 42.976254 0.23430422\n",
            "Independent+Rotation 20.0 68.85003 2.8117113\n",
            "TernGrad 20.0 42.072174 0.08683029\n",
            "DRIVE 20.0 46.930954 0.17021708\n",
            "Correlated 20.0 39.974834 0.12771523\n",
            "Correlated+Rotation 20.0 42.20631 0.17438135\n"
          ]
        },
        {
          "data": {
            "image/png": "[encoded data removed]",
            "text/plain": [
              "\u003cFigure size 600x400 with 1 Axes\u003e"
            ]
          },
          "metadata": {},
          "output_type": "display_data"
        }
      ],
      "source": [
        "STOP = 20\n",
        "for quantizer_name, metrics in experiment_kmeans_metrics[\n",
        "    'num_levels=2 seed=47'].items():\n",
        "  if quantizer_name in ('rotated_independent', 'drive'):\n",
        "    continue\n",
        "  x = jnp.mean(metrics['comm_rounds'], axis=0)[:STOP]\n",
        "  y = jnp.mean(metrics['round_obj'], axis=0)[:STOP]\n",
        "  yerr = jnp.std(metrics['round_obj'], axis=0)[:STOP]\n",
        "  plt.errorbar(x, y, yerr, label=quantizer_name)\n",
        "  print(quantizer_name, x[-1], y[-1], yerr[-1])\n",
        "plt.legend()\n",
        "plt.xlabel('Communication Rounds')\n",
        "plt.ylabel('Objective')\n",
        "plt.grid()"
      ]
    },
    {
      "cell_type": "markdown",
      "metadata": {
        "id": "pRUK-rU0eDvr"
      },
      "source": [
        "### Distributed power iteration\n",
        "\n",
        "MNIST (d=784)\n",
        "\n",
        "Compute the top eigenvector of a matrix.\n",
        "In the distributed setting, each client has access to a subset of data.\n",
        "In each iteration, the server broadcasts the current estimate of the eigenvector to all clients.\n",
        "Each client then updates the eigenvector based on one power iteration on its local data, and sends the updated eigenvector back to the server.\n",
        "The server updates the eigenvector by computing the average of the eigenvectors sent by all clients.\n",
        "\n",
        "In the quantized setting, the client compresses the estimated eigenvector before sending to the server.\n",
        "The dataset is distributed over 100 clients."
      ]
    },
    {
      "cell_type": "code",
      "execution_count": null,
      "metadata": {
        "id": "1fRbKXEpj4DC"
      },
      "outputs": [],
      "source": [
        "@jax.jit\n",
        "def single_power_iteration(A, b_k):\n",
        "  b_k1 = jnp.dot(A, b_k)\n",
        "  b_k1_norm = jnp.linalg.norm(b_k1)\n",
        "  return b_k1 / b_k1_norm"
      ]
    },
    {
      "cell_type": "code",
      "execution_count": null,
      "metadata": {
        "executionInfo": {
          "elapsed": 203588,
          "status": "ok",
          "timestamp": 1655223188373,
          "user": {
            "displayName": "",
            "userId": ""
          },
          "user_tz": 240
        },
        "id": "OuIyZB-_eWPy",
        "outputId": "35867ca8-ba1c-4757-b3dd-b7bc214390c7"
      },
      "outputs": [
        {
          "name": "stdout",
          "output_type": "stream",
          "text": [
            "Average iteration duration = 1.379183053970337 sec\n",
            "Finished None num_levels=2 seed=47\n",
            "Average iteration duration = 1.637480092048645 sec\n",
            "Finished Independent num_levels=2 seed=47\n",
            "Average iteration duration = 4.332050490379333 sec\n",
            "Finished Independent+Rotation num_levels=2 seed=47\n",
            "Average iteration duration = 1.564760112762451 sec\n",
            "Finished TernGrad num_levels=2 seed=47\n",
            "Average iteration duration = 4.057858896255493 sec\n",
            "Finished DRIVE num_levels=2 seed=47\n",
            "Average iteration duration = 2.442772364616394 sec\n",
            "Finished Correlated num_levels=2 seed=47\n",
            "Average iteration duration = 4.898791837692261 sec\n",
            "Finished Correlated+Rotation num_levels=2 seed=47\n"
          ]
        }
      ],
      "source": [
        "def run_dist_power(x,\n",
        "                   aggregator_name,\n",
        "                   aggregator,\n",
        "                   rng,\n",
        "                   num_clients=100,\n",
        "                   num_rounds=50,\n",
        "                   num_iters=10,\n",
        "                   verbose=True):\n",
        "  start = time.time()\n",
        "  experiment_metrics = {\n",
        "      'eig': [],\n",
        "      'round_l2error': [],\n",
        "      'comm_rounds': [],\n",
        "  }\n",
        "  # Init aggregator state.\n",
        "  aggregator_state = aggregator.init()\n",
        "  for it in range(num_iters + 1):\n",
        "    rng, eig_rng, client_rng = jax.random.split(rng, 3)\n",
        "    # Input to jnp.cov is 2-D array containing multiple variables and observations.\n",
        "    # Each row of represents a variable, and each column a single observation of all\n",
        "    # those variables.\n",
        "    x_cov = jnp.cov(jnp.transpose(x))\n",
        "    # Ground truth top eigenvector.\n",
        "    n = x_cov.shape[0]\n",
        "    _, gt_eig = scipy.linalg.eigh(x_cov, eigvals=(n - 1, n - 1))\n",
        "    gt_eig = jnp.squeeze(gt_eig)\n",
        "    # Init top eigenvector estimate.\n",
        "    eig = jax.random.uniform(eig_rng, shape=(x_cov.shape[1],))\n",
        "    # Split and distribute clients.\n",
        "    clients = partition_data(x, num_clients, client_rng)\n",
        "    # Covariance matrix for each client\n",
        "    clients_covs = [jnp.cov(jnp.transpose(c)) for c in clients]\n",
        "    round_l2error = []\n",
        "    comm_rounds = []\n",
        "    for t in range(num_rounds):\n",
        "      local_eigs = []\n",
        "      local_weights = []\n",
        "      for local_x in clients:\n",
        "        local_x_cov = jnp.cov(jnp.transpose(local_x))\n",
        "        local_eigs.append(single_power_iteration(local_x_cov, eig))\n",
        "        local_weights.append(local_x.shape[0])\n",
        "      eig, aggregator_state = aggregator.apply(\n",
        "          [(j, local_eigs[j], local_weights[j]) for j in range(num_clients)],\n",
        "          aggregator_state)\n",
        "      # L2 distance between current estimated top eigenvector and groundtruth.\n",
        "      l2error = jnp.linalg.norm(gt_eig - eig)\n",
        "      round_l2error.append(l2error)\n",
        "      comm_rounds.append(t + 1)\n",
        "      if t % 10 == 0 and verbose:\n",
        "        print(f'{t} l2error: {round_l2error[t]}')\n",
        "    if it \u003e 0:\n",
        "      experiment_metrics['eig'].append(eig)\n",
        "      experiment_metrics['round_l2error'].append(round_l2error)\n",
        "      experiment_metrics['comm_rounds'].append(comm_rounds)\n",
        "  end = time.time()\n",
        "  print(f'Average iteration duration = {(end - start)/num_iters} sec')\n",
        "  return {k: jnp.array(v) for k, v in experiment_metrics.items()}\n",
        "\n",
        "\n",
        "def run_dist_power_experiment(seed, num_levels_range):\n",
        "  experiment_metrics = {}\n",
        "  cache = {}\n",
        "  for num_levels in num_levels_range:\n",
        "    key = f'num_levels={num_levels} seed={seed}'\n",
        "    experiment_metrics[key] = {}\n",
        "    power_metrics = experiment_metrics[key]\n",
        "    num_clients = 100\n",
        "    rng = jax.random.PRNGKey(seed)\n",
        "    rng, quant_rng = jax.random.split(rng)\n",
        "    quantizers = get_quantizers(\n",
        "        rng=quant_rng,\n",
        "        num_levels=num_levels,\n",
        "        num_clients=num_clients,\n",
        "        thresholds=jnp.array([-1., 1.]),\n",
        "        update_thresholds=True)\n",
        "    for quantizer_name, quantizer in quantizers.items():\n",
        "      if not depends_on_num_levels(quantizer_name) and quantizer_name in cache:\n",
        "        # Does not depend on num_levels and already run so we can safely reuse.\n",
        "        power_metrics[quantizer_name] = cache[quantizer_name]\n",
        "      else:\n",
        "        power_metrics[quantizer_name] = run_dist_power(\n",
        "            mnist_x,\n",
        "            quantizer_name,\n",
        "            quantizer,\n",
        "            rng,\n",
        "            num_clients=num_clients,\n",
        "            num_rounds=20,\n",
        "            num_iters=10,\n",
        "            verbose=False)\n",
        "        cache[quantizer_name] = power_metrics[quantizer_name]\n",
        "      print(f'Finished {quantizer_name} {key}')\n",
        "  return experiment_metrics\n",
        "\n",
        "\n",
        "experiment_power_metrics = run_dist_power_experiment(\n",
        "    seed=47, num_levels_range=[2])"
      ]
    },
    {
      "cell_type": "code",
      "execution_count": null,
      "metadata": {
        "colab": {
          "height": 408
        },
        "executionInfo": {
          "elapsed": 505,
          "status": "ok",
          "timestamp": 1655223188992,
          "user": {
            "displayName": "",
            "userId": ""
          },
          "user_tz": 240
        },
        "id": "IllV4JomzkZW",
        "outputId": "996dd9ac-35b5-4fd6-e69f-453fc0c911bc"
      },
      "outputs": [
        {
          "name": "stdout",
          "output_type": "stream",
          "text": [
            "None 20.0 0.007733381 0.00033110133\n",
            "Independent 20.0 0.24239223 0.004981054\n",
            "Independent+Rotation 20.0 0.26689598 0.015837636\n",
            "TernGrad 20.0 0.09957607 0.0011066166\n",
            "DRIVE 20.0 0.36986563 0.000731836\n",
            "Correlated 20.0 0.05528116 0.0017702938\n",
            "Correlated+Rotation 20.0 0.059168022 0.00151366\n"
          ]
        },
        {
          "data": {
            "image/png": "[encoded data removed]",
            "text/plain": [
              "\u003cFigure size 600x400 with 1 Axes\u003e"
            ]
          },
          "metadata": {},
          "output_type": "display_data"
        }
      ],
      "source": [
        "STOP = 20\n",
        "for quantizer_name, metrics in experiment_power_metrics['num_levels=2 seed=47'].items():\n",
        "  x = jnp.mean(metrics['comm_rounds'], axis=0)[:STOP]\n",
        "  y = jnp.mean(metrics['round_l2error'], axis=0)[:STOP]\n",
        "  yerr = jnp.std(metrics['round_l2error'], axis=0)[:STOP]\n",
        "  plt.errorbar(x, y, yerr, label=quantizer_name)\n",
        "  print(quantizer_name, x[-1], y[-1], yerr[-1])\n",
        "plt.legend()\n",
        "plt.xlabel('Communication Rounds')\n",
        "plt.ylabel('Error')\n",
        "plt.grid()"
      ]
    },
    {
      "cell_type": "markdown",
      "metadata": {
        "id": "A7Zzq863mDFb"
      },
      "source": [
        "## Federated MNIST\n",
        "\n",
        "FedAvg on the federated MNIST dataset."
      ]
    },
    {
      "cell_type": "code",
      "execution_count": null,
      "metadata": {
        "executionInfo": {
          "elapsed": 3526,
          "status": "ok",
          "timestamp": 1655223192675,
          "user": {
            "displayName": "",
            "userId": ""
          },
          "user_tz": 240
        },
        "id": "7ojHnFAYmKTm",
        "outputId": "677866a7-d272-4d38-e319-75597f64d0d5"
      },
      "outputs": [
        {
          "name": "stderr",
          "output_type": "stream",
          "text": [
            "Downloading 'https://storage.googleapis.com/gresearch/fedjax/emnist/federated_emnist_digitsonly_train.sqlite' to '/tmp/.cache/fedjax/federated_emnist_digitsonly_train.sqlite'\n",
            "100%, elapsed: 2s\n",
            "Downloading 'https://storage.googleapis.com/gresearch/fedjax/emnist/federated_emnist_digitsonly_test.sqlite' to '/tmp/.cache/fedjax/federated_emnist_digitsonly_test.sqlite'\n",
            "100%, elapsed: 0s\n"
          ]
        }
      ],
      "source": [
        "train_fd, test_fd = fedjax.datasets.emnist.load_data(only_digits=True)\n",
        "# Hyperparameters for client local traing dataset preparation.\n",
        "client_batch_hparams = fedjax.ShuffleRepeatBatchHParams(batch_size=20)\n",
        "# Just read this once for all experiments.\n",
        "full_test_eval_batches = list(\n",
        "    fedjax.padded_batch_federated_data(\n",
        "        test_fd, fedjax.PaddedBatchHParams(batch_size=256)))"
      ]
    },
    {
      "cell_type": "code",
      "execution_count": null,
      "metadata": {
        "id": "kZAIpiRmUGX9"
      },
      "outputs": [],
      "source": [
        "model = fedjax.models.emnist.create_logistic_model(only_digits=True)\n",
        "grad_fn = jax.jit(fedjax.model_grad(model))\n",
        "# Create federated averaging algorithm.\n",
        "client_optimizer = fedjax.optimizers.sgd(learning_rate=0.5)\n",
        "server_optimizer = fedjax.optimizers.sgd(learning_rate=1.0)\n",
        "# For the sake of saving on redundant compile times, I do this outside of this\n",
        "# function for the colab only.\n",
        "with fedjax.for_each_client_backend('pmap'):\n",
        "  train_for_each_client = fedjax.algorithms.fed_avg.create_train_for_each_client(\n",
        "      grad_fn, client_optimizer)\n",
        "\n",
        "ClientId = bytes\n",
        "Grads = fedjax.Params\n",
        "\n",
        "\n",
        "@fedjax.dataclass\n",
        "class ServerState:\n",
        "  \"\"\"State of server passed between rounds.\n",
        "\n",
        "  Attributes:\n",
        "    params: A pytree representing the server model parameters.\n",
        "    opt_state: A pytree representing the server optimizer state.\n",
        "    aggregator_state: Stores the state of the aggregator if non-default\n",
        "      aggregation is needed.\n",
        "    aggregated_delta: Aggregated delta stored purely for diagnostics to check\n",
        "      error of quantization on dist mean estimation.\n",
        "  \"\"\"\n",
        "  params: fedjax.Params\n",
        "  opt_state: fedjax.OptState\n",
        "  aggregator_state: Any\n",
        "  aggregated_delta: fedjax.Params\n",
        "\n",
        "\n",
        "def federated_averaging(\n",
        "    grad_fn: Callable[[fedjax.Params, fedjax.BatchExample, fedjax.PRNGKey],\n",
        "                      Grads],\n",
        "    client_optimizer: fedjax.Optimizer,\n",
        "    server_optimizer: fedjax.Optimizer,\n",
        "    client_batch_hparams: fedjax.ShuffleRepeatBatchHParams,\n",
        "    aggregator: fedjax.aggregators.Aggregator,\n",
        ") -\u003e fedjax.FederatedAlgorithm:\n",
        "  r\"\"\"Builds federated averaging.\n",
        "\n",
        "  Args:\n",
        "    grad_fn: A function from (params, batch_example, rng) to gradients. This can\n",
        "      be created with `fedjax.model_grad`. For FedProx the input is (params,\n",
        "      server_params, batch_example, rng).\n",
        "    client_optimizer: Optimizer for local client training.\n",
        "    server_optimizer: Optimizer for server update.\n",
        "    client_batch_hparams: Hyperparameters for batching client dataset for train.\n",
        "    aggregator: Aggregator that applies any special techniques to process the\n",
        "      client updates, for example quantization, before weighting and averaging.\n",
        "      If none, will use default fedjax.aggregators.mean_aggregator().\n",
        "\n",
        "  Returns:\n",
        "    FederatedAlgorithm\n",
        "  \"\"\"\n",
        "  train_for_each_client = fedjax.algorithms.fed_avg.create_train_for_each_client(\n",
        "      grad_fn, client_optimizer)\n",
        "\n",
        "  def init(params: fedjax.Params) -\u003e ServerState:\n",
        "    \"\"\"Initializes federated averaging server state.\n",
        "\n",
        "    Args:\n",
        "      params: Initial model parameters. This could be randomly initialized with\n",
        "        `fedjax.Model.init` or pre-trained for warm starting.\n",
        "\n",
        "    Returns:\n",
        "      Initial server state.\n",
        "    \"\"\"\n",
        "    opt_state = server_optimizer.init(params)\n",
        "    aggregator_state = aggregator.init()\n",
        "    aggregated_delta = fedjax.tree_util.tree_zeros_like(params)\n",
        "    return ServerState(params, opt_state, aggregator_state, aggregated_delta)\n",
        "\n",
        "  def apply(\n",
        "      server_state: ServerState,\n",
        "      clients: Sequence[Tuple[ClientId, fedjax.ClientDataset, fedjax.PRNGKey]]\n",
        "  ) -\u003e Tuple[ServerState, Mapping[ClientId, Any]]:\n",
        "    \"\"\"Runs one round of federated averaging training.\n",
        "\n",
        "    Args:\n",
        "      server_state: Input server state containing model parameters and optimizer\n",
        "        state.\n",
        "      clients: Clients to train across. Each client has a client id, client\n",
        "        dataset, and initial rng for training.\n",
        "\n",
        "    Returns:\n",
        "      Updated server state and optional per-client diagnostics.\n",
        "    \"\"\"\n",
        "    client_num_examples = {cid: len(cds) for cid, cds, _ in clients}\n",
        "    # [(client_id, batches, client_input), ...].\n",
        "    batch_clients = [(cid, cds.shuffle_repeat_batch(client_batch_hparams), crng)\n",
        "                     for cid, cds, crng in clients]\n",
        "    client_diagnostics = {}\n",
        "    shared_input = server_state.params\n",
        "\n",
        "    # (client ID, params, weights) generator to avoid reading all to memory.\n",
        "    def generate_client_params_and_weights():\n",
        "      for client_id, delta_params in train_for_each_client(\n",
        "          shared_input, batch_clients):\n",
        "        num_examples = client_num_examples[client_id]\n",
        "        # Record diagnostics that aren't necessary for training.\n",
        "        client_diagnostics[client_id] = {}\n",
        "        client_diagnostics[client_id]['delta_l2_norm'] = (\n",
        "            fedjax.tree_util.tree_l2_norm(delta_params))\n",
        "        client_diagnostics[client_id]['delta_minv'] = min(\n",
        "            jnp.min(l) for l in jax.tree_util.tree_leaves(delta_params))\n",
        "        client_diagnostics[client_id]['delta_maxv'] = max(\n",
        "            jnp.max(l) for l in jax.tree_util.tree_leaves(delta_params))\n",
        "        # This is pretty expensive but we do it here for the sake of measuring\n",
        "        # distributed mean estimation error.\n",
        "        client_diagnostics[client_id]['delta_params'] = delta_params\n",
        "        client_diagnostics[client_id]['weight'] = num_examples\n",
        "        yield (client_id, delta_params, num_examples)\n",
        "\n",
        "    client_params_and_weights = generate_client_params_and_weights()\n",
        "    server_state = server_update(server_state, client_params_and_weights)\n",
        "    return server_state, client_diagnostics\n",
        "\n",
        "  def server_update(server_state, client_params_and_weights):\n",
        "    weighted_averaged_delta, new_aggregator_state = aggregator.apply(\n",
        "        client_params_and_weights, server_state.aggregator_state)\n",
        "    opt_state, params = server_optimizer.apply(weighted_averaged_delta,\n",
        "                                               server_state.opt_state,\n",
        "                                               server_state.params)\n",
        "    return ServerState(params, opt_state, new_aggregator_state,\n",
        "                       weighted_averaged_delta)\n",
        "\n",
        "  return fedjax.FederatedAlgorithm(init, apply)"
      ]
    },
    {
      "cell_type": "code",
      "execution_count": null,
      "metadata": {
        "id": "nFbHy_DqnFVK"
      },
      "outputs": [],
      "source": [
        "@jax.jit\n",
        "def mean_tree_distance(tree_a, tree_b):\n",
        "  # PyTree of euclidean distances between leaves of tree_a and tree_b. \n",
        "  tree_distance = jax.tree_util.tree_multimap(lambda a, b: jnp.linalg.norm(a - b), tree_a, tree_b)\n",
        "  distance_leaves = jax.tree_util.tree_leaves(tree_distance)\n",
        "  # Average euclidean distance across all leaves.\n",
        "  return sum(distance_leaves) / len(distance_leaves)"
      ]
    },
    {
      "cell_type": "code",
      "execution_count": null,
      "metadata": {
        "executionInfo": {
          "elapsed": 513175,
          "status": "ok",
          "timestamp": 1655227135031,
          "user": {
            "displayName": "",
            "userId": ""
          },
          "user_tz": 240
        },
        "id": "WDWkf_jVc-_W",
        "outputId": "41f719d5-acb8-414e-d9c1-13d6acc9b5c0"
      },
      "outputs": [
        {
          "metadata": {
            "tags": null
          },
          "name": "stdout",
          "output_type": "stream",
          "text": [
            "Average round duration = 0.05797864294052124 sec\n",
            "Finished None trial=0\n",
            "Average round duration = 0.061408156871795655 sec\n",
            "Finished Independent trial=0\n",
            "Average round duration = 0.08568717646598815 sec\n",
            "Finished Independent+Rotation trial=0\n",
            "Average round duration = 0.062294402360916136 sec\n",
            "Finished TernGrad trial=0\n",
            "Average round duration = 0.08803971529006958 sec"
          ]
        },
        {
          "name": "stdout",
          "output_type": "stream",
          "text": [
            "\n",
            "Finished DRIVE trial=0\n",
            "Average round duration = 0.06535083079338073 sec\n",
            "Finished Correlated trial=0\n",
            "Average round duration = 0.09202187418937684 sec\n",
            "Finished Correlated+Rotation trial=0\n",
            "Average round duration = 0.056881370544433596 sec\n",
            "Finished None trial=1\n",
            "Average round duration = 0.06144775176048279 sec\n",
            "Finished Independent trial=1\n",
            "Average round duration = 0.08610576891899109 sec\n",
            "Finished Independent+Rotation trial=1\n",
            "Average round duration = 0.06111760497093201 sec\n",
            "Finished TernGrad trial=1\n",
            "Average round duration = 0.08649813175201417 sec\n",
            "Finished DRIVE trial=1\n",
            "Average round duration = 0.06524716186523437 sec\n",
            "Finished Correlated trial=1\n",
            "Average round duration = 0.09284871411323548 sec\n",
            "Finished Correlated+Rotation trial=1\n",
            "Average round duration = 0.05727267217636108 sec\n",
            "Finished None trial=2\n",
            "Average round duration = 0.06158564376831055 sec\n",
            "Finished Independent trial=2\n",
            "Average round duration = 0.08754656863212586 sec\n",
            "Finished Independent+Rotation trial=2\n",
            "Average round duration = 0.062051664113998414 sec\n",
            "Finished TernGrad trial=2\n",
            "Average round duration = 0.08620910382270813 sec\n",
            "Finished DRIVE trial=2\n",
            "Average round duration = 0.06688218975067138 sec\n",
            "Finished Correlated trial=2\n",
            "Average round duration = 0.09318416619300843 sec\n",
            "Finished Correlated+Rotation trial=2\n",
            "Average round duration = 0.05827039313316345 sec\n",
            "Finished None trial=3\n",
            "Average round duration = 0.061145179986953735 sec\n",
            "Finished Independent trial=3\n",
            "Average round duration = 0.08623970389366149 sec\n",
            "Finished Independent+Rotation trial=3\n",
            "Average round duration = 0.06254444742202758 sec\n",
            "Finished TernGrad trial=3\n",
            "Average round duration = 0.08515768766403198 sec\n",
            "Finished DRIVE trial=3\n",
            "Average round duration = 0.06478275513648987 sec\n",
            "Finished Correlated trial=3\n",
            "Average round duration = 0.0907382595539093 sec\n",
            "Finished Correlated+Rotation trial=3\n",
            "Average round duration = 0.05729396486282349 sec\n",
            "Finished None trial=4\n",
            "Average round duration = 0.06125831627845764 sec\n",
            "Finished Independent trial=4\n",
            "Average round duration = 0.08693375468254089 sec\n",
            "Finished Independent+Rotation trial=4\n",
            "Average round duration = 0.06151406717300415 sec\n",
            "Finished TernGrad trial=4\n",
            "Average round duration = 0.08547835063934327 sec\n",
            "Finished DRIVE trial=4\n",
            "Average round duration = 0.066417724609375 sec\n",
            "Finished Correlated trial=4\n",
            "Average round duration = 0.08937255597114563 sec\n",
            "Finished Correlated+Rotation trial=4\n"
          ]
        }
      ],
      "source": [
        "def run_fedavg(train_fd,\n",
        "               test_fd,\n",
        "               model,\n",
        "               algorithm,\n",
        "               rng,\n",
        "               sample_clients_seed=0,\n",
        "               num_clients=10,\n",
        "               num_rounds=2000,\n",
        "               init_thresholds=None,\n",
        "               verbose=True):\n",
        "  # Ground truth mean aggregator\n",
        "  gt_mean_aggregator = fedjax.aggregators.mean_aggregator()\n",
        "  gt_mean_state = gt_mean_aggregator.init()\n",
        "  # Initialization.\n",
        "  rng, model_rng = jax.random.split(rng)\n",
        "  init_params = model.init(model_rng)\n",
        "  server_state = algorithm.init(init_params)\n",
        "  if init_thresholds is not None:\n",
        "    # Set correlated thresholds according to init if it's set.\n",
        "    aggregator_state = server_state.aggregator_state.replace(\n",
        "        thresholds=init_thresholds)\n",
        "    server_state = server_state.replace(aggregator_state=aggregator_state)\n",
        "  round_full_test_loss = []\n",
        "  round_full_test_acc = []\n",
        "  round_dme_error = []\n",
        "  round_delta_minv = []\n",
        "  round_delta_maxv = []\n",
        "  comm_rounds = []\n",
        "  # Train and eval loop.\n",
        "  train_client_sampler = fedjax.client_samplers.UniformGetClientSampler(\n",
        "      fd=train_fd, num_clients=num_clients, seed=sample_clients_seed)\n",
        "  start = time.time()\n",
        "  for t in range(num_rounds):\n",
        "    # Sample 10 clients per round without replacement for training.\n",
        "    clients = train_client_sampler.sample()\n",
        "    # Run one round of training on sampled clients.\n",
        "    server_state, client_diagnostics = algorithm.apply(server_state, clients)\n",
        "    if t % 5 == 0:\n",
        "      # Check error of mean estimation to ground truth mean aggregator.\n",
        "      gt_mean_delta, gt_mean_state = gt_mean_aggregator.apply(\n",
        "          [(cid, cd['delta_params'], cd['weight'])\n",
        "           for cid, cd in client_diagnostics.items()], gt_mean_state)\n",
        "      # Periodically evaluate the trained server model parameters.\n",
        "      full_test_metrics = fedjax.evaluate_model(model, server_state.params,\n",
        "                                                full_test_eval_batches)\n",
        "      round_full_test_loss.append(full_test_metrics['loss'])\n",
        "      round_full_test_acc.append(full_test_metrics['accuracy'])\n",
        "      round_dme_error.append(\n",
        "          mean_tree_distance(gt_mean_delta, server_state.aggregated_delta))\n",
        "      round_delta_minv.append(\n",
        "          min(d['delta_minv'] for d in client_diagnostics.values()))\n",
        "      round_delta_maxv.append(\n",
        "          max(d['delta_maxv'] for d in client_diagnostics.values()))\n",
        "      comm_rounds.append(t + 1)\n",
        "      if verbose:\n",
        "        print(f'[{t}] {round_metrics[t]}')\n",
        "  end = time.time()\n",
        "  print(f'Average round duration = {(end - start) / num_rounds} sec')\n",
        "  return {\n",
        "      'round_full_test_loss': round_full_test_loss,\n",
        "      'round_full_test_acc': round_full_test_acc,\n",
        "      'round_dme_error': round_dme_error,\n",
        "      'round_delta_minv': round_delta_minv,\n",
        "      'round_delta_maxv': round_delta_maxv,\n",
        "      'comm_rounds': comm_rounds,\n",
        "      'server_state': server_state,\n",
        "  }\n",
        "\n",
        "\n",
        "def run_fedavg_experiment(seed, num_levels, num_iters):\n",
        "  # Logic to avoid redundant experiments for diff num_levels.\n",
        "  rng = jax.random.PRNGKey(seed)\n",
        "  experiment_metrics = []\n",
        "  for trial in range(num_iters):\n",
        "    rng, use_rng = jax.random.split(rng)\n",
        "    fedavg_metrics = {}\n",
        "    use_rng, quant_rng = jax.random.split(use_rng)\n",
        "    num_clients = 10\n",
        "    quantizers = get_quantizers(\n",
        "        rng=quant_rng,\n",
        "        num_levels=num_levels,\n",
        "        num_clients=num_clients,\n",
        "        thresholds=jax.tree_util.tree_map(lambda l: jnp.array([-1.0, 1.0]),\n",
        "                                          model.init(jax.random.PRNGKey(0))),\n",
        "        update_thresholds=True)\n",
        "    for quantizer_name, quantizer in quantizers.items():\n",
        "      algorithm = federated_averaging(grad_fn, client_optimizer,\n",
        "                                      server_optimizer,\n",
        "                                      client_batch_hparams, quantizer)\n",
        "      init_thresholds = None\n",
        "      if 'correlated' in quantizer_name:\n",
        "        # Initialize thresholds for correlated with couple of rounds first.\n",
        "        s = run_fedavg(\n",
        "            train_fd,\n",
        "            test_fd,\n",
        "            model,\n",
        "            algorithm,\n",
        "            use_rng,\n",
        "            sample_clients_seed=0,\n",
        "            num_clients=num_clients,\n",
        "            num_rounds=20,\n",
        "            verbose=False)['server_state']\n",
        "        init_thresholds = s.aggregator_state.thresholds\n",
        "      fedavg_metrics[quantizer_name] = run_fedavg(\n",
        "          train_fd,\n",
        "          test_fd,\n",
        "          model,\n",
        "          algorithm,\n",
        "          use_rng,\n",
        "          sample_clients_seed=0,\n",
        "          num_clients=num_clients,\n",
        "          num_rounds=1000,\n",
        "          init_thresholds=init_thresholds,\n",
        "          verbose=False)\n",
        "      print(f'Finished {quantizer_name} trial={trial}')\n",
        "    experiment_metrics.append(fedavg_metrics)\n",
        "  return experiment_metrics\n",
        "\n",
        "\n",
        "experiment_fedavg_metrics = run_fedavg_experiment(\n",
        "    seed=47, num_levels=2, num_iters=5)"
      ]
    },
    {
      "cell_type": "code",
      "execution_count": null,
      "metadata": {
        "id": "6Ka4x-sNzn2N"
      },
      "outputs": [],
      "source": [
        "t = {}\n",
        "for d in experiment_fedavg_metrics:\n",
        "  for k, v in d.items():\n",
        "    if k not in t:\n",
        "      t[k] = {}\n",
        "    for ki, vi in v.items():\n",
        "      if ki not in t[k]:\n",
        "        t[k][ki] = []\n",
        "      t[k][ki].append(vi)\n",
        "\n",
        "for d in experiment_fedavg_metrics:\n",
        "  for k, v in d.items():\n",
        "    for ki, vi in v.items():\n",
        "      if ki != 'server_state':\n",
        "        t[k][ki] = jnp.array(t[k][ki])\n",
        "\n",
        "experiment_fedavg_metrics = t"
      ]
    },
    {
      "cell_type": "code",
      "execution_count": null,
      "metadata": {
        "colab": {
          "height": 414
        },
        "executionInfo": {
          "elapsed": 1045,
          "status": "ok",
          "timestamp": 1655227284453,
          "user": {
            "displayName": "",
            "userId": ""
          },
          "user_tz": 240
        },
        "id": "55sfSaB1viia",
        "outputId": "d3cb8aa0-01fb-4732-da9e-7cc7fc070c91"
      },
      "outputs": [
        {
          "name": "stdout",
          "output_type": "stream",
          "text": [
            "None 99600.0 89.30642 0.0130147105\n",
            "Independent 99600.0 87.37952 0.29608145\n",
            "Independent+Rotation 99600.0 89.112946 0.058338705\n",
            "TernGrad 99600.0 88.50363 0.02688986\n",
            "DRIVE 99600.0 88.99686 0.03107129\n",
            "Correlated 99600.0 88.38558 0.122654356\n",
            "Correlated+Rotation 99600.0 89.197685 0.03543616\n"
          ]
        },
        {
          "data": {
            "image/png": "[encoded data removed]",
            "text/plain": [
              "\u003cFigure size 600x400 with 1 Axes\u003e"
            ]
          },
          "metadata": {},
          "output_type": "display_data"
        }
      ],
      "source": [
        "# STOP * 5 is the round number it will stop on.\n",
        "STOP = 201\n",
        "for quantizer_name, metrics in experiment_fedavg_metrics.items():\n",
        "  x = jnp.mean(metrics['comm_rounds'], axis=0)[:STOP]\n",
        "  y = jnp.mean(metrics['round_full_test_acc'], axis=0)[:STOP]\n",
        "  yerr = jnp.std(metrics['round_full_test_acc'], axis=0)[:STOP]\n",
        "  plt.errorbar(x, y, yerr, label=quantizer_name)\n",
        "  print(quantizer_name, x[-1] * 100, y[-1] * 100, yerr[-1] * 100)\n",
        "plt.legend()\n",
        "plt.xlabel('Communication Rounds')\n",
        "plt.ylabel('Accuracy')\n",
        "plt.ylim((0.7, 0.9))\n",
        "plt.grid()"
      ]
    }
  ],
  "metadata": {
    "colab": {
      "collapsed_sections": [],
      "last_runtime": {
        "build_target": "//learning/deepmind/public/tools/ml_python:ml_notebook",
        "kind": "private"
      },
      "name": "Correlated compression experiments",
      "provenance": [
        {
          "file_id": "1_QXVpn3Wp0zTM5_YqJC_v899Cj2av8H0",
          "timestamp": 1654117730178
        }
      ],
      "toc_visible": true
    },
    "kernelspec": {
      "display_name": "Python 3",
      "name": "python3"
    },
    "language_info": {
      "name": "python"
    }
  },
  "nbformat": 4,
  "nbformat_minor": 0
}
